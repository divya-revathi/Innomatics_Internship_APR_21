{
  "nbformat": 4,
  "nbformat_minor": 0,
  "metadata": {
    "colab": {
      "name": "Task-6 (NumPy).ipynb",
      "provenance": [],
      "collapsed_sections": []
    },
    "kernelspec": {
      "name": "python3",
      "display_name": "Python 3"
    },
    "language_info": {
      "name": "python"
    }
  },
  "cells": [
    {
      "cell_type": "code",
      "metadata": {
        "colab": {
          "base_uri": "https://localhost:8080/"
        },
        "id": "Gupi02jdFzCn",
        "outputId": "f8bdfb71-16c0-4442-dc75-e25d40ecdd58"
      },
      "source": [
        "#Ques-1 Print elements of array in reverse order in float formmat using numpy\n",
        "\n",
        "import numpy\n",
        "\n",
        "def arrays(arr):\n",
        "    # complete this function\n",
        "    # use numpy.array\n",
        "    arr.reverse()\n",
        "    return numpy.array(arr,float)\n",
        "\n",
        "arr = input().strip().split(' ')\n",
        "result = arrays(arr)\n",
        "print(result)"
      ],
      "execution_count": null,
      "outputs": [
        {
          "output_type": "stream",
          "text": [
            "1 2 3 7 8 9 10\n",
            "[10.  9.  8.  7.  3.  2.  1.]\n"
          ],
          "name": "stdout"
        }
      ]
    },
    {
      "cell_type": "code",
      "metadata": {
        "colab": {
          "base_uri": "https://localhost:8080/"
        },
        "id": "2s5NAI4JGNam",
        "outputId": "f2a4cc5c-24a7-48ed-f3a8-a1c7ccdad116"
      },
      "source": [
        "#Ques-2 Shape and Reshape\n",
        "\n",
        "import numpy\n",
        "arr = input().strip().split(' ')\n",
        "my_array = numpy.array(arr,int)\n",
        "print(numpy.reshape(my_array,(3,3)))"
      ],
      "execution_count": null,
      "outputs": [
        {
          "output_type": "stream",
          "text": [
            "1 2 3 4 5 6 7 8 9\n",
            "[[1 2 3]\n",
            " [4 5 6]\n",
            " [7 8 9]]\n"
          ],
          "name": "stdout"
        }
      ]
    },
    {
      "cell_type": "code",
      "metadata": {
        "colab": {
          "base_uri": "https://localhost:8080/"
        },
        "id": "sWVfL6EMHszY",
        "outputId": "72b8aa7a-f149-4911-c4e8-e596021acc7e"
      },
      "source": [
        "#Ques-3 Transpose and Flatten\n",
        "\n",
        "import numpy\n",
        "n, m = map(int, input().strip().split(' '))\n",
        "arr = []\n",
        "for i in range(n):\n",
        "    arr.append(numpy.array(list(map(int, input().strip().split(' ')))))\n",
        "arr = numpy.array(arr)\n",
        "print(arr.transpose())\n",
        "print(arr.flatten())"
      ],
      "execution_count": null,
      "outputs": [
        {
          "output_type": "stream",
          "text": [
            "2 2\n",
            "1 2\n",
            "3 4\n",
            "[[1 3]\n",
            " [2 4]]\n",
            "[1 2 3 4]\n"
          ],
          "name": "stdout"
        }
      ]
    },
    {
      "cell_type": "code",
      "metadata": {
        "colab": {
          "base_uri": "https://localhost:8080/"
        },
        "id": "Ivk1MN8xJqhq",
        "outputId": "7626a12c-9a51-4aa8-99f2-5ad9a832199f"
      },
      "source": [
        "#Ques-4 Concatenate\n",
        "\n",
        "import numpy\n",
        "n, m, p = map(int, input().strip().split(' '))\n",
        "arr1 = []\n",
        "for i in range(n):\n",
        "    arr1.append(numpy.array(list(map(int, input().strip().split(' ')))))\n",
        "arr1 = numpy.array(arr1)\n",
        "arr2=[]\n",
        "for i in range(m):\n",
        "    arr2.append(numpy.array(list(map(int, input().strip().split(' ')))))\n",
        "arr2 = numpy.array(arr2)\n",
        "print(numpy.concatenate((arr1, arr2), axis = 0))"
      ],
      "execution_count": null,
      "outputs": [
        {
          "output_type": "stream",
          "text": [
            "4 3 2\n",
            "1 2\n",
            "1 2\n",
            "1 2\n",
            "1 2\n",
            "3 4\n",
            "3 4\n",
            "3 4\n",
            "[[1 2]\n",
            " [1 2]\n",
            " [1 2]\n",
            " [1 2]\n",
            " [3 4]\n",
            " [3 4]\n",
            " [3 4]]\n"
          ],
          "name": "stdout"
        }
      ]
    },
    {
      "cell_type": "code",
      "metadata": {
        "colab": {
          "base_uri": "https://localhost:8080/"
        },
        "id": "W9lxFZ-9MOrS",
        "outputId": "f614434b-1ad7-4605-e6b8-f47454fc4c2e"
      },
      "source": [
        "#Ques-5 Zeros and Ones\n",
        "\n",
        "import numpy\n",
        "n, m, p = map(int, input().strip().split(' '))\n",
        "arr1=[]\n",
        "for i in range(p):\n",
        "    arr1.append(numpy.zeros((m,n), dtype = numpy.int))\n",
        "arr1 = numpy.array(arr1)\n",
        "print(arr1)\n",
        "\n",
        "arr2=[]\n",
        "for i in range(p):\n",
        "    arr2.append(numpy.ones((m,n), dtype = numpy.int))\n",
        "arr2 = numpy.array(arr2)\n",
        "\n",
        "print(arr2)"
      ],
      "execution_count": null,
      "outputs": [
        {
          "output_type": "stream",
          "text": [
            "3 3 3\n",
            "[[[0 0 0]\n",
            "  [0 0 0]\n",
            "  [0 0 0]]\n",
            "\n",
            " [[0 0 0]\n",
            "  [0 0 0]\n",
            "  [0 0 0]]\n",
            "\n",
            " [[0 0 0]\n",
            "  [0 0 0]\n",
            "  [0 0 0]]]\n",
            "[[[1 1 1]\n",
            "  [1 1 1]\n",
            "  [1 1 1]]\n",
            "\n",
            " [[1 1 1]\n",
            "  [1 1 1]\n",
            "  [1 1 1]]\n",
            "\n",
            " [[1 1 1]\n",
            "  [1 1 1]\n",
            "  [1 1 1]]]\n"
          ],
          "name": "stdout"
        }
      ]
    },
    {
      "cell_type": "code",
      "metadata": {
        "colab": {
          "base_uri": "https://localhost:8080/"
        },
        "id": "dPwgshN1QP34",
        "outputId": "79dd4ff8-6e15-47b4-f1ed-b6b433a21017"
      },
      "source": [
        "#Ques-6 Eye and Identity\n",
        "\n",
        "import numpy\n",
        "numpy.set_printoptions(legacy='1.13')\n",
        "n, m = map(int, input().strip().split(' '))\n",
        "print(numpy.eye(n, m, k = 0))"
      ],
      "execution_count": null,
      "outputs": [
        {
          "output_type": "stream",
          "text": [
            "5 3\n",
            "[[ 1.  0.  0.]\n",
            " [ 0.  1.  0.]\n",
            " [ 0.  0.  1.]\n",
            " [ 0.  0.  0.]\n",
            " [ 0.  0.  0.]]\n"
          ],
          "name": "stdout"
        }
      ]
    },
    {
      "cell_type": "code",
      "metadata": {
        "colab": {
          "base_uri": "https://localhost:8080/"
        },
        "id": "22q_AJJeTilI",
        "outputId": "b0a938e7-1bab-4ce6-859e-b3483c1c5dca"
      },
      "source": [
        "#Ques-7 Array Mathematics\n",
        "\n",
        "import numpy\n",
        "\n",
        "n,m=map(int,input().split())\n",
        "A=numpy.array([list(map(int,input().split())) for i in range(n)])\n",
        "B=numpy.array([list(map(int,input().split())) for i in range(n)])\n",
        "print(A+B)\n",
        "print(A-B)\n",
        "print(A*B)\n",
        "print(A//B)\n",
        "print(A%B)\n",
        "print(A**B)"
      ],
      "execution_count": null,
      "outputs": [
        {
          "output_type": "stream",
          "text": [
            "1 4\n",
            "1 2 3 4\n",
            "1 2 3 4\n",
            "[[2 4 6 8]]\n",
            "[[0 0 0 0]]\n",
            "[[ 1  4  9 16]]\n",
            "[[1 1 1 1]]\n",
            "[[0 0 0 0]]\n",
            "[[  1   4  27 256]]\n"
          ],
          "name": "stdout"
        }
      ]
    },
    {
      "cell_type": "code",
      "metadata": {
        "id": "ZbFmLmumX48Q",
        "colab": {
          "base_uri": "https://localhost:8080/"
        },
        "outputId": "03401ec7-57f0-4f59-aa32-ef2e99aae227"
      },
      "source": [
        "#Ques-8 Floor, Ceil and Rint\n",
        "\n",
        "import numpy\n",
        "numpy.set_printoptions(legacy='1.13')\n",
        "A=numpy.array(list(map(float,input().split())))\n",
        "print(numpy.floor(A))\n",
        "print(numpy.ceil(A))\n",
        "print(numpy.rint(A))"
      ],
      "execution_count": 1,
      "outputs": [
        {
          "output_type": "stream",
          "text": [
            "1.1 2.2 3.3 4.4 5.5 6.6 7.7 8.8 9.9\n",
            "[ 1.  2.  3.  4.  5.  6.  7.  8.  9.]\n",
            "[  2.   3.   4.   5.   6.   7.   8.   9.  10.]\n",
            "[  1.   2.   3.   4.   6.   7.   8.   9.  10.]\n"
          ],
          "name": "stdout"
        }
      ]
    },
    {
      "cell_type": "code",
      "metadata": {
        "colab": {
          "base_uri": "https://localhost:8080/"
        },
        "id": "B67BgftPJgkO",
        "outputId": "a0aa2244-93e2-40b2-b7f3-5f4acefbfdc5"
      },
      "source": [
        "#Ques-9 Sum and Prod\n",
        "\n",
        "import numpy\n",
        "n,m=map(int,input().split())\n",
        "A=numpy.array([list(map(int,input().split())) for i in range(n)])\n",
        "print(numpy.prod((numpy.sum(A, axis = 0))))"
      ],
      "execution_count": 2,
      "outputs": [
        {
          "output_type": "stream",
          "text": [
            "2 2\n",
            "1 2\n",
            "3 4\n",
            "24\n"
          ],
          "name": "stdout"
        }
      ]
    },
    {
      "cell_type": "code",
      "metadata": {
        "colab": {
          "base_uri": "https://localhost:8080/"
        },
        "id": "PolzjBr0LPsS",
        "outputId": "4ef532ad-c141-4b64-d507-8c5e8a3f7a8a"
      },
      "source": [
        "#Ques-10 Min and Max\n",
        "\n",
        "import numpy\n",
        "n,m=map(int,input().split())\n",
        "A=numpy.array([list(map(int,input().split())) for i in range(n)])\n",
        "print(numpy.max((numpy.min(A, axis = 1))))"
      ],
      "execution_count": 3,
      "outputs": [
        {
          "output_type": "stream",
          "text": [
            "2 2\n",
            "1 2\n",
            "3 4\n",
            "3\n"
          ],
          "name": "stdout"
        }
      ]
    },
    {
      "cell_type": "code",
      "metadata": {
        "colab": {
          "base_uri": "https://localhost:8080/"
        },
        "id": "OSooGh_2MWzx",
        "outputId": "e1eef6e7-4250-462a-abdf-65be5606731b"
      },
      "source": [
        "#Ques-11 Mean Var and Std\n",
        "\n",
        "import numpy\n",
        "n,m=map(int,input().split())\n",
        "A=numpy.array([list(map(int,input().split())) for i in range(n)])\n",
        "print(numpy.mean(A, axis = 1))\n",
        "print(numpy.var(A, axis = 0))\n",
        "print(numpy.std(A, axis=None))"
      ],
      "execution_count": 4,
      "outputs": [
        {
          "output_type": "stream",
          "text": [
            "2 2\n",
            "1 2\n",
            "3 4\n",
            "[ 1.5  3.5]\n",
            "[ 1.  1.]\n",
            "1.11803398875\n"
          ],
          "name": "stdout"
        }
      ]
    },
    {
      "cell_type": "code",
      "metadata": {
        "colab": {
          "base_uri": "https://localhost:8080/"
        },
        "id": "UTwISh65OtqX",
        "outputId": "d02f1b12-800c-40ab-f4f7-8b4e1c412a4b"
      },
      "source": [
        "#Ques-12 Matrix Multiplication\n",
        "\n",
        "import numpy\n",
        "n=int(input())\n",
        "A=numpy.array([list(map(int,input().split())) for i in range(n)])\n",
        "B=numpy.array([list(map(int,input().split())) for i in range(n)])\n",
        "print(numpy.dot(A,B))"
      ],
      "execution_count": 5,
      "outputs": [
        {
          "output_type": "stream",
          "text": [
            "2\n",
            "1 2\n",
            "3 4\n",
            "1 2\n",
            "3 4\n",
            "[[ 7 10]\n",
            " [15 22]]\n"
          ],
          "name": "stdout"
        }
      ]
    },
    {
      "cell_type": "code",
      "metadata": {
        "colab": {
          "base_uri": "https://localhost:8080/"
        },
        "id": "42HCLM12QGxN",
        "outputId": "30c5f488-ffef-4fe2-bb41-0a6b305659ec"
      },
      "source": [
        "#Ques-13 Inner and Outer Product\n",
        "\n",
        "import numpy\n",
        "A=numpy.array([list(map(int,input().split()))])\n",
        "B=numpy.array([list(map(int,input().split()))])\n",
        "print(int(numpy.inner(A,B)))\n",
        "print(numpy.outer(A,B))"
      ],
      "execution_count": 6,
      "outputs": [
        {
          "output_type": "stream",
          "text": [
            "1 2\n",
            "3 4\n",
            "11\n",
            "[[3 4]\n",
            " [6 8]]\n"
          ],
          "name": "stdout"
        }
      ]
    },
    {
      "cell_type": "code",
      "metadata": {
        "colab": {
          "base_uri": "https://localhost:8080/"
        },
        "id": "ENJjaDz4RKXo",
        "outputId": "f86691fe-c990-40c4-fd97-e58e74b28960"
      },
      "source": [
        "#Ques-14 Polynomials\n",
        "\n",
        "import numpy\n",
        "A=list(map(float,input().split()))\n",
        "B=int(input())\n",
        "print(numpy.polyval(A,B))"
      ],
      "execution_count": 7,
      "outputs": [
        {
          "output_type": "stream",
          "text": [
            "1.1 2 3\n",
            "0\n",
            "3.0\n"
          ],
          "name": "stdout"
        }
      ]
    },
    {
      "cell_type": "code",
      "metadata": {
        "colab": {
          "base_uri": "https://localhost:8080/"
        },
        "id": "3Te48-3jTvJJ",
        "outputId": "f96cf314-92d4-420f-9106-5505e84a1a60"
      },
      "source": [
        "#Ques-15 Linear Algebra\n",
        "\n",
        "import numpy\n",
        "n=int(input())\n",
        "A=numpy.array([list(map(float,input().split())) for i in range(n)])\n",
        "print(numpy.linalg.det(A))"
      ],
      "execution_count": 8,
      "outputs": [
        {
          "output_type": "stream",
          "text": [
            "2\n",
            "1.1 1.1\n",
            "1.1 1.1\n",
            "0.0\n"
          ],
          "name": "stdout"
        }
      ]
    }
  ]
}