{
  "nbformat": 4,
  "nbformat_minor": 0,
  "metadata": {
    "colab": {
      "name": "Task-4(Python Programming).ipynb",
      "provenance": [],
      "collapsed_sections": []
    },
    "kernelspec": {
      "name": "python3",
      "display_name": "Python 3"
    },
    "language_info": {
      "name": "python"
    }
  },
  "cells": [
    {
      "cell_type": "code",
      "metadata": {
        "colab": {
          "base_uri": "https://localhost:8080/"
        },
        "id": "1SkwSqPkZtjx",
        "outputId": "93f83144-be65-4cea-92cf-80c0ef6f228f"
      },
      "source": [
        "#Ques-1 Swap Letter Cases\n",
        "\n",
        "def swap_case(s):\n",
        "    s=s.swapcase()\n",
        "    return s\n",
        "\n",
        "if __name__ == '__main__':\n",
        "    s = input()\n",
        "    result = swap_case(s)\n",
        "    print(result)"
      ],
      "execution_count": null,
      "outputs": [
        {
          "output_type": "stream",
          "text": [
            "Divya Revathi Ch\n",
            "dIVYA rEVATHI cH\n"
          ],
          "name": "stdout"
        }
      ]
    },
    {
      "cell_type": "code",
      "metadata": {
        "colab": {
          "base_uri": "https://localhost:8080/"
        },
        "id": "o1DSjCTFiEx2",
        "outputId": "0403f985-a678-470f-989d-67f2cd56ab81"
      },
      "source": [
        "#Ques-2 Split and Join Strings\n",
        "\n",
        "def split_and_join(line):\n",
        "    # write your code here\n",
        "    line=line.split(\" \")\n",
        "    line=\"-\".join(line)\n",
        "    return line\n",
        "\n",
        "if __name__ == '__main__':\n",
        "    line = input()\n",
        "    result = split_and_join(line)\n",
        "    print(result)"
      ],
      "execution_count": null,
      "outputs": [
        {
          "output_type": "stream",
          "text": [
            "Divya Revathi Ch\n",
            "Divya-Revathi-Ch\n"
          ],
          "name": "stdout"
        }
      ]
    },
    {
      "cell_type": "code",
      "metadata": {
        "colab": {
          "base_uri": "https://localhost:8080/"
        },
        "id": "RFaczwgzkLev",
        "outputId": "989b45a3-d249-4112-8448-dff0f0022ff4"
      },
      "source": [
        "#Ques-3 Printing full name with given first and last name\n",
        "\n",
        "def print_full_name(first, last):\n",
        "    # Write your code here\n",
        "    print(\"Hello \"+first+\" \"+last+\"! You just delved into python.\")\n",
        "\n",
        "if __name__ == '__main__':\n",
        "    first_name = input()\n",
        "    last_name = input()\n",
        "    print_full_name(first_name, last_name)"
      ],
      "execution_count": null,
      "outputs": [
        {
          "output_type": "stream",
          "text": [
            "Divya\n",
            "Ch\n",
            "Hello Divya Ch! You just delved into python.\n"
          ],
          "name": "stdout"
        }
      ]
    },
    {
      "cell_type": "code",
      "metadata": {
        "colab": {
          "base_uri": "https://localhost:8080/"
        },
        "id": "05l4HnR9kXfh",
        "outputId": "f6d16269-bbd8-49ed-fb96-d1217222b55e"
      },
      "source": [
        "#Ques-4 String mutations\n",
        "\n",
        "def mutate_string(string, position, character):\n",
        "    string=string[:position]+character+string[position+1:]\n",
        "    return string\n",
        "\n",
        "if __name__ == '__main__':\n",
        "    s = input()\n",
        "    i, c = input().split()\n",
        "    s_new = mutate_string(s, int(i), c)\n",
        "    print(s_new)"
      ],
      "execution_count": null,
      "outputs": [
        {
          "output_type": "stream",
          "text": [
            "abracadabra\n",
            "5 k\n",
            "abrackdabra\n"
          ],
          "name": "stdout"
        }
      ]
    },
    {
      "cell_type": "code",
      "metadata": {
        "colab": {
          "base_uri": "https://localhost:8080/"
        },
        "id": "IwrktwS9l30L",
        "outputId": "a015c785-2dac-4260-92ca-631e1ab28da3"
      },
      "source": [
        "#Ques-5 Finding a sub-string in given string\n",
        "\n",
        "def count_substring(string, sub_string):\n",
        "    count=0\n",
        "    for i in range(len(string)-len(sub_string)+1):\n",
        "        if string[i:len(sub_string)+i]==sub_string:\n",
        "            count+=1           \n",
        "    return count\n",
        "\n",
        "if __name__ == '__main__':\n",
        "    string = input().strip()\n",
        "    sub_string = input().strip()\n",
        "    \n",
        "    count = count_substring(string, sub_string)\n",
        "    print(count)"
      ],
      "execution_count": null,
      "outputs": [
        {
          "output_type": "stream",
          "text": [
            "abcdcdc\n",
            "cdc\n",
            "2\n"
          ],
          "name": "stdout"
        }
      ]
    },
    {
      "cell_type": "code",
      "metadata": {
        "colab": {
          "base_uri": "https://localhost:8080/"
        },
        "id": "JVm-TRxrqYfI",
        "outputId": "f44ca2f8-f00a-42d9-b0b1-68e4b67758e2"
      },
      "source": [
        "#Ques-6 String Validations\n",
        "\n",
        "stringS = input()\n",
        "print(any(x.isalnum() for x in stringS))\n",
        "print(any(x.isalpha() for x in stringS))\n",
        "print(any(x.isdigit() for x in stringS))\n",
        "print(any(x.islower() for x in stringS))\n",
        "print(any(x.isupper() for x in stringS))"
      ],
      "execution_count": null,
      "outputs": [
        {
          "output_type": "stream",
          "text": [
            "qA2\n",
            "True\n",
            "True\n",
            "True\n",
            "True\n",
            "True\n"
          ],
          "name": "stdout"
        }
      ]
    },
    {
      "cell_type": "code",
      "metadata": {
        "colab": {
          "base_uri": "https://localhost:8080/"
        },
        "id": "qGTmtxjpw2uX",
        "outputId": "7ae83862-27f8-472a-f130-01b86f2e720c"
      },
      "source": [
        "#Ques-7 Text Alignment\n",
        "\n",
        "#Replace all ______ with rjust, ljust or center. \n",
        "\n",
        "thickness = int(input()) #This must be an odd number\n",
        "c = 'H'\n",
        "\n",
        "#Top Cone\n",
        "for i in range(thickness):\n",
        "    print((c*i).rjust(thickness-1)+c+(c*i).ljust(thickness-1))\n",
        "\n",
        "#Top Pillars\n",
        "for i in range(thickness+1):\n",
        "    print((c*thickness).center(thickness*2)+(c*thickness).center(thickness*6))\n",
        "\n",
        "#Middle Belt\n",
        "for i in range((thickness+1)//2):\n",
        "    print((c*thickness*5).center(thickness*6))    \n",
        "\n",
        "#Bottom Pillars\n",
        "for i in range(thickness+1):\n",
        "    print((c*thickness).center(thickness*2)+(c*thickness).center(thickness*6))    \n",
        "\n",
        "#Bottom Cone\n",
        "for i in range(thickness):\n",
        "    print(((c*(thickness-i-1)).rjust(thickness)+c+(c*(thickness-i-1)).ljust(thickness)).rjust(thickness*6))\n"
      ],
      "execution_count": null,
      "outputs": [
        {
          "output_type": "stream",
          "text": [
            "5\n",
            "    H    \n",
            "   HHH   \n",
            "  HHHHH  \n",
            " HHHHHHH \n",
            "HHHHHHHHH\n",
            "  HHHHH               HHHHH             \n",
            "  HHHHH               HHHHH             \n",
            "  HHHHH               HHHHH             \n",
            "  HHHHH               HHHHH             \n",
            "  HHHHH               HHHHH             \n",
            "  HHHHH               HHHHH             \n",
            "  HHHHHHHHHHHHHHHHHHHHHHHHH   \n",
            "  HHHHHHHHHHHHHHHHHHHHHHHHH   \n",
            "  HHHHHHHHHHHHHHHHHHHHHHHHH   \n",
            "  HHHHH               HHHHH             \n",
            "  HHHHH               HHHHH             \n",
            "  HHHHH               HHHHH             \n",
            "  HHHHH               HHHHH             \n",
            "  HHHHH               HHHHH             \n",
            "  HHHHH               HHHHH             \n",
            "                    HHHHHHHHH \n",
            "                     HHHHHHH  \n",
            "                      HHHHH   \n",
            "                       HHH    \n",
            "                        H     \n"
          ],
          "name": "stdout"
        }
      ]
    },
    {
      "cell_type": "code",
      "metadata": {
        "colab": {
          "base_uri": "https://localhost:8080/"
        },
        "id": "Za-ES9umzywf",
        "outputId": "86aad278-6a1a-416a-a97c-ba63151a1941"
      },
      "source": [
        "#Ques-8 Text Wrap\n",
        "\n",
        "import textwrap\n",
        "\n",
        "def wrap(string, max_width):\n",
        "    string=textwrap.fill(string,max_width)\n",
        "    return string\n",
        "\n",
        "if __name__ == '__main__':\n",
        "    string, max_width = input(), int(input())\n",
        "    result = wrap(string, max_width)\n",
        "    print(result)"
      ],
      "execution_count": null,
      "outputs": [
        {
          "output_type": "stream",
          "text": [
            "ABCDEFGHIJKLMNOPQRSTUVWXYZ\n",
            "4\n",
            "ABCD\n",
            "EFGH\n",
            "IJKL\n",
            "MNOP\n",
            "QRST\n",
            "UVWX\n",
            "YZ\n"
          ],
          "name": "stdout"
        }
      ]
    },
    {
      "cell_type": "code",
      "metadata": {
        "colab": {
          "base_uri": "https://localhost:8080/"
        },
        "id": "x9O_OU3S06CD",
        "outputId": "32e90f03-cac1-4cf7-e6b5-ea9afe8b03f5"
      },
      "source": [
        "#Ques-9 Designer Door mat\n",
        "\n",
        "N, M = map(int,input().split()) \n",
        "for i in range(1,N,2): \n",
        "    print((\".|.\"*i).center(M,'-'))\n",
        "print((\"WELCOME\".center(M,'-')))\n",
        "for i in range(N-2,-1,-2): \n",
        "    print((\".|.\"*i).center(M,'-'))"
      ],
      "execution_count": null,
      "outputs": [
        {
          "output_type": "stream",
          "text": [
            "7 21\n",
            "---------.|.---------\n",
            "------.|..|..|.------\n",
            "---.|..|..|..|..|.---\n",
            "-------WELCOME-------\n",
            "---.|..|..|..|..|.---\n",
            "------.|..|..|.------\n",
            "---------.|.---------\n"
          ],
          "name": "stdout"
        }
      ]
    },
    {
      "cell_type": "code",
      "metadata": {
        "colab": {
          "base_uri": "https://localhost:8080/"
        },
        "id": "-OWEqVtR2Lcr",
        "outputId": "5aea7a31-1cf7-4c7e-da25-fed3d041d9eb"
      },
      "source": [
        "#Ques-10 String formatting\n",
        "\n",
        "def print_formatted(number):\n",
        "    # your code goes here\n",
        "    l = len(bin(number)) - 2\n",
        "    format_str = ' '.join(['%' + str(l) + 's'] * 4)\n",
        "    for i in range(1, number + 1):\n",
        "        print(format_str % (str(i), oct(i)[2:], hex(i)[2:].upper(), bin(i)[2:]))\n",
        "\n",
        "if __name__ == '__main__':\n",
        "    n = int(input())\n",
        "    print_formatted(n)"
      ],
      "execution_count": null,
      "outputs": [
        {
          "output_type": "stream",
          "text": [
            "2\n",
            " 1  1  1  1\n",
            " 2  2  2 10\n"
          ],
          "name": "stdout"
        }
      ]
    },
    {
      "cell_type": "code",
      "metadata": {
        "id": "pdiYRBpC4-4T",
        "colab": {
          "base_uri": "https://localhost:8080/"
        },
        "outputId": "b577539d-6301-4586-920e-119b73efbe83"
      },
      "source": [
        "#Ques-11 Alphabet Rangoli\n",
        "\n",
        "def print_rangoli(size):\n",
        "    # your code goes here\n",
        "    r = []\n",
        "    letters = [chr(ord('a') + x) for x in range(26)]\n",
        "    hold = curr = size - 1\n",
        "    for i in range(size):\n",
        "        line = ''\n",
        "        for j in range(2 * size - 1):\n",
        "            if j % 2 == 1:\n",
        "                line += '-'\n",
        "            else:\n",
        "                num = (2 * size - 2 - j) // 2 + curr\n",
        "                if num <= hold:\n",
        "                    line += letters[num]\n",
        "                else:\n",
        "                    line += '-'\n",
        "        line = line + line[:-1][::-1]\n",
        "        curr -= 1\n",
        "        r.append(line)\n",
        "    for i in range(n - 2, -1, -1):\n",
        "        r.append(r[i][:])\n",
        "    for i in r:\n",
        "        print(i)\n",
        "\n",
        "if __name__ == '__main__':\n",
        "    n = int(input())\n",
        "    print_rangoli(n)"
      ],
      "execution_count": 1,
      "outputs": [
        {
          "output_type": "stream",
          "text": [
            "5\n",
            "--------e--------\n",
            "------e-d-e------\n",
            "----e-d-c-d-e----\n",
            "--e-d-c-b-c-d-e--\n",
            "e-d-c-b-a-b-c-d-e\n",
            "--e-d-c-b-c-d-e--\n",
            "----e-d-c-d-e----\n",
            "------e-d-e------\n",
            "--------e--------\n"
          ],
          "name": "stdout"
        }
      ]
    },
    {
      "cell_type": "code",
      "metadata": {
        "colab": {
          "base_uri": "https://localhost:8080/"
        },
        "id": "4RqxgLTSqdCn",
        "outputId": "f4d705ac-ec79-42cb-a5a0-624f083c45e8"
      },
      "source": [
        "#Ques-12  Capitalize\n",
        "\n",
        "def solve(s):\n",
        "    s=s.title()         \n",
        "    return s\n",
        "\n",
        "s = input()\n",
        "result = solve(s)\n",
        "print(result)"
      ],
      "execution_count": 3,
      "outputs": [
        {
          "output_type": "stream",
          "text": [
            "divya revathi\n",
            "Divya Revathi\n"
          ],
          "name": "stdout"
        }
      ]
    },
    {
      "cell_type": "code",
      "metadata": {
        "colab": {
          "base_uri": "https://localhost:8080/"
        },
        "id": "1ouaVQ3a07p9",
        "outputId": "49ab4869-ebf8-4c8f-e968-5838be5858c5"
      },
      "source": [
        "#Ques-13 The Minion Game\n",
        "\n",
        "def minion_game(string):\n",
        "    # your code goes here\n",
        "    stuart=0\n",
        "    kevin=0\n",
        "    for i in range(len(string)):\n",
        "        if string[i]=='A' or string[i]=='E' or string[i]=='I' or string[i]=='O' or string[i]=='U':\n",
        "            kevin+=len(string)-i\n",
        "        else:\n",
        "            stuart+=len(string)-i\n",
        "    if stuart==kevin:\n",
        "     print(\"Draw\")\n",
        "    elif kevin>stuart:\n",
        "     print(\"Kevin \"+ str(kevin))\n",
        "    else:\n",
        "     print(\"Stuart \"+ str(stuart))\n",
        "\n",
        "if __name__ == '__main__':\n",
        "    s = input()\n",
        "    minion_game(s)"
      ],
      "execution_count": 6,
      "outputs": [
        {
          "output_type": "stream",
          "text": [
            "BAANAANNA\n",
            "Kevin 25\n"
          ],
          "name": "stdout"
        }
      ]
    },
    {
      "cell_type": "code",
      "metadata": {
        "colab": {
          "base_uri": "https://localhost:8080/"
        },
        "id": "oEOY3zDo5ujw",
        "outputId": "a6680ab1-70f8-48e7-9d85-2a5c35b92c3a"
      },
      "source": [
        "#Ques-14  Merge the tools\n",
        "\n",
        "def merge_the_tools(string, k):\n",
        "    # your code goes here\n",
        "    i = 0\n",
        "    while i < len(string):\n",
        "      a = string[i:i+k]\n",
        "      output = \"\"\n",
        "      for x in a:\n",
        "           if x not in output:\n",
        "              output += x\n",
        "      print(output)\n",
        "      i += k\n",
        "    \n",
        "    \n",
        "if __name__ == '__main__':\n",
        "    string, k = input(), int(input())\n",
        "    merge_the_tools(string, k)"
      ],
      "execution_count": 1,
      "outputs": [
        {
          "output_type": "stream",
          "text": [
            "AABCDCADA\n",
            "3\n",
            "AB\n",
            "CD\n",
            "AD\n"
          ],
          "name": "stdout"
        }
      ]
    }
  ]
}