{
 "cells": [
  {
   "cell_type": "markdown",
   "metadata": {},
   "source": [
    "# Hypothesis Testing\n",
    "\n",
    "###### Hypothesis testing is the process used to evaluate the strength of evidence from the sample and provides a framework for making determinations related to the population, ie, it provides a method for understanding how reliably one can extrapolate observed findings in a sample under study to the larger population from which the sample was drawn\n",
    "\n",
    "###### 4 Steps of Hypothesis Testing\n",
    "All hypotheses are tested using a four-step process:\n",
    "\n",
    "1. The first step is for the analyst to state the two hypotheses so that only one can be right.\n",
    "2. The next step is to formulate an analysis plan, which outlines how the data will be evaluated.\n",
    "3. The third step is to carry out the plan and physically analyze the sample data.\n",
    "4. The fourth and final step is to analyze the results and either reject the null hypothesis, or state that the null hypothesis is plausible, given the data."
   ]
  },
  {
   "cell_type": "markdown",
   "metadata": {},
   "source": [
    "# Understanding the Hypothesis Testing\n",
    "\n",
    "###### Step - 1:\n",
    "\n",
    "Alternate Hypothesis (Bold claim): $$ H_1 \\ \\Rightarrow \\ \\gt, \\ \\lt, \\ \\neq  $$\n",
    "\n",
    "Null Hypothesis (Status Quo): $$ H_0 \\ \\Rightarrow \\ \\leq, \\ \\geq, \\ = $$\n",
    "\n",
    "###### Step - 2:\n",
    "\n",
    "Collect a sample of size n\n",
    "Compute the mean from this sample $$ \\bar{x} $$\n",
    "\n",
    "###### Step - 3: Compute Test Statistic:\n",
    "\n",
    "If population variance is known$$ z = \\frac{\\bar{x} - \\mu}{\\sigma/\\sqrt[2]{n}}$$\n",
    "\n",
    "If population variance is unknown$$ t = \\frac{\\bar{x} - \\mu}{s/\\sqrt[2]{n}} $$\n",
    "\n",
    "###### Step - 4: Decide significance level $ \\alpha $. Lower $ \\alpha $ means you need stronger evidence to reject Null Hypothesis.\n",
    "\n",
    "###### Step - 5.1: Apply decision rule:\n",
    "\n",
    "If test statistic is z-score -\n",
    "\n",
    "Two tailed z-test:$$ |z| \\gt z_\\frac{\\alpha}{2} \\Rightarrow Accept \\ H_1 \\ or \\ Reject \\ H_0$$\n",
    "Right tailed z-test:$$ z \\gt z_\\alpha \\Rightarrow Accept \\ H_1 \\ or \\ Reject \\ H_0 $$\n",
    "Left tailed z-test:$$ z \\lt -z_\\alpha \\Rightarrow Accept \\ H_1 \\ or \\ Reject \\ H_0 $$\n",
    "If test statistic is t-score\n",
    "\n",
    "Two tailed t-test:$$ |t| \\gt t_{n-1,\\frac{\\alpha}{2}} \\Rightarrow Accept \\ H_1 \\ or \\ Reject \\ H_0 $$\n",
    "Right tailed t-test:$$ t \\gt t_{n-1,\\alpha} \\Rightarrow Accept \\ H_1 \\ or \\ Reject \\ H_0 $$\n",
    "Left tailed t-test:$$ t \\lt t_{n-1,\\alpha} \\Rightarrow Accept \\ H_1 \\ or \\ Reject \\ H_0 $$\n",
    "\n",
    "###### Step - 5.2: Compute p-value $ P(Test \\ Statistics | H_0) $\n",
    "\n",
    "For two tailed test:$$ p \\ value = 2 * (1.0 - cdf(test \\ statistic)) $$\n",
    "For one tailed test:$$ p \\ value = (1.0 - cdf(test \\ statistic)) $$Now,$$ if (p \\ value \\lt \\alpha) \\Rightarrow Accept \\ H_1 \\ or \\ Reject \\ H_0 $$"
   ]
  },
  {
   "cell_type": "markdown",
   "metadata": {},
   "source": [
    "### As we have already learnt about how to perform hypothesis testing with z-score(in case of known Variance of Population), Now lets learn to perform hypothesis testing with t-score(i.e, in case where Variance of Population values are unknown)"
   ]
  },
  {
   "cell_type": "code",
   "execution_count": 39,
   "metadata": {},
   "outputs": [],
   "source": [
    "#importing Python Libraries\n",
    "\n",
    "import matplotlib.pyplot as plt\n",
    "import numpy as np\n",
    "from scipy.stats import t,norm"
   ]
  },
  {
   "cell_type": "code",
   "execution_count": 40,
   "metadata": {},
   "outputs": [],
   "source": [
    "# t-score for normal distribution\n",
    "def t_score(sample_size,sample_mean,pop_mean,sample_std):\n",
    "    numerator = sample_mean - pop_mean\n",
    "    denominator = sample_std / sample_size**0.5\n",
    "    return numerator/denominator\n"
   ]
  },
  {
   "cell_type": "markdown",
   "metadata": {},
   "source": [
    "###### Q-1: Pista House selling Hyderabadi Chicken Dum biryani claims that each parcel packet has 500 grams of biryani (also mentioned on the label of packet). You are sceptic of their claims and believe that on average each packet does not contain 500 grams of biryani. How do you prove your claim? \n",
    "\n",
    "Step - 1:\n",
    "Alternate Hypothesis (Bold claim):$$ H_1:Each\\ packet\\ does\\ not\\ contain\\ 500\\ grams  $$Null Hypothesis (Status Quo):$$ H_0: Each\\ packet\\ contain\\ 500\\ grams $$\n",
    "\n",
    "Step - 2:\n",
    "\n",
    "Collect a sample of size n = 10$$ [490, 220, 470, 500, 495, 496, 496, 498, 508, 480] $$\n",
    "Compute sample mean$$ \\bar{x} \\ = \\ ? $$\n",
    "Step - 3: Compute Test Statistic(as population std is not given):$$ t = \\frac{\\bar{x}-\\mu_{\\bar{x}}}{\\frac{\\ S}{\\sqrt{n}}} $$\n",
    "\n",
    "Step - 4: Decide $ \\alpha $ or significance level\n",
    "\n",
    "Step - 5.1: Calculate tailed t-test:$$ reject \\ H_0 \\ if \\ ? $$\n",
    "\n",
    "Step - 5.2: Compute p-value"
   ]
  },
  {
   "cell_type": "code",
   "execution_count": 41,
   "metadata": {},
   "outputs": [
    {
     "name": "stdout",
     "output_type": "stream",
     "text": [
      "465.3\n",
      "82.3918078451978\n"
     ]
    }
   ],
   "source": [
    "#Calculating Sample mean, sample standard deviation\n",
    "sam = [490, 220, 470, 500, 495, 496, 496, 498, 508, 480]\n",
    "sam_mean = np.mean(sam)\n",
    "sam_std = np.std(sam)\n",
    "pop_mean = 500\n",
    "sam_size = 10\n",
    "print(sam_mean)\n",
    "print(sam_std)"
   ]
  },
  {
   "cell_type": "code",
   "execution_count": 42,
   "metadata": {},
   "outputs": [
    {
     "name": "stdout",
     "output_type": "stream",
     "text": [
      "-1.3318197242863192\n"
     ]
    }
   ],
   "source": [
    "#Calculating t_score\n",
    "T_score = t_score(sam_size,sam_mean,pop_mean,sam_std)\n",
    "print(T_score)"
   ]
  },
  {
   "cell_type": "code",
   "execution_count": 43,
   "metadata": {},
   "outputs": [
    {
     "name": "stdout",
     "output_type": "stream",
     "text": [
      "2.2621571627409915\n"
     ]
    }
   ],
   "source": [
    "#Calculating t_critical value\n",
    "confidence_level = 0.95\n",
    "df = 9\n",
    "alpha = 1 - confidence_level\n",
    "t_critical = t.ppf(1-alpha/2,df)\n",
    "print(t_critical)"
   ]
  },
  {
   "cell_type": "code",
   "execution_count": 44,
   "metadata": {},
   "outputs": [
    {
     "data": {
      "text/plain": [
       "Text(465.3, 0.0007, 'x_bar')"
      ]
     },
     "execution_count": 44,
     "metadata": {},
     "output_type": "execute_result"
    },
    {
     "data": {
      "image/png": "[encoded data removed]",
      "text/plain": [
       "<Figure size 432x288 with 1 Axes>"
      ]
     },
     "metadata": {
      "needs_background": "light"
     },
     "output_type": "display_data"
    }
   ],
   "source": [
    "#plotting the sample distribution with rejection region\n",
    "x_min = 400\n",
    "x_max = 600\n",
    "\n",
    "#defining sample mean and sample std\n",
    "mean = pop_mean\n",
    "std = sam_std/ sam_size**0.5\n",
    "\n",
    "#plotting the graph and setting limits\n",
    "x = np.linspace(x_min,x_max,100)\n",
    "y = norm.pdf(x, mean ,std)\n",
    "plt.xlim(x_min,x_max)\n",
    "plt.plot(x,y)\n",
    "\n",
    "#Computing the left and right critical values\n",
    "t_critical_left = pop_mean + (-t_critical*std)\n",
    "t_critical_right = pop_mean + (t_critical*std)\n",
    "\n",
    "#Shading the left rejection region\n",
    "x1 = np.linspace(x_min,t_critical_left,100)\n",
    "y1 = norm.pdf(x1,mean,std)\n",
    "plt.fill_between(x1,y1,color='red')\n",
    "\n",
    "#Shading the right rejection region\n",
    "x2 = np.linspace(t_critical_right,x_max,100)\n",
    "y2 = norm.pdf(x2,mean,std)\n",
    "plt.fill_between(x2,y2,color='red')\n",
    "\n",
    "#plotting the sample mean\n",
    "plt.scatter(sam_mean,0)\n",
    "plt.annotate('x_bar',(sam_mean,0.0007))"
   ]
  },
  {
   "cell_type": "code",
   "execution_count": 45,
   "metadata": {},
   "outputs": [
    {
     "name": "stdout",
     "output_type": "stream",
     "text": [
      "Failed to reject null hypothesis\n"
     ]
    }
   ],
   "source": [
    "#conclusion using t-test\n",
    "if(np.abs(T_score)>t_critical):\n",
    "    print(\"Reject null hypothesis\")\n",
    "else:\n",
    "    print(\"Failed to reject null hypothesis\")"
   ]
  },
  {
   "cell_type": "code",
   "execution_count": 46,
   "metadata": {},
   "outputs": [
    {
     "name": "stdout",
     "output_type": "stream",
     "text": [
      "P_value: 0.18291943486353945\n",
      "Failed to reject null hypothesis\n"
     ]
    }
   ],
   "source": [
    "#Conclusion using p-test:\n",
    "p_value = 2 * (1.0 - norm.cdf(np.abs(T_score)))\n",
    "print(\"P_value:\",p_value)\n",
    "if (p_value<alpha):\n",
    "    print(\"Reject null hypothesis\")\n",
    "else:\n",
    "    print(\"Failed to reject null hypothesis\")"
   ]
  },
  {
   "cell_type": "markdown",
   "metadata": {},
   "source": [
    "###### Q-2: You have developed a new Natural Language Processing Algorithms and done a user study. You claim that the average rating given by the users is greater than 4 on a scale of 1 to 5. How do you prove this to your client?\n",
    "\n",
    "Step - 1:\n",
    "Alternate Hypothesis (Bold Claim):$$ \\ {H_1} = All\\ users\\ rating\\ are\\ above\\ 4  $$Null Hypothesis (Status Quo):$$ \\ {H_0} = Users\\ ratings\\ are\\ not\\ above\\ 4  $$\n",
    "\n",
    "Step - 2:\n",
    "\n",
    "Collect a sample of size n = 20$$ [4,3,5,4,5,3,5,5,4,2,4,5,5,4,4,5,4,5,4,5] $$\n",
    "Compute sample mean$$ \\bar{x} \\ = \\ ? $$\n",
    "Step - 3: Compute Test Statistic:$$  t = \\frac{\\bar{x}-\\mu_{\\bar{x}}}{\\frac{\\ S}{\\sqrt{n}}}  $$\n",
    "\n",
    "Step - 4: Decide $ \\alpha $\n",
    "\n",
    "Step - 5.1: Compute tailed t-test:$$ reject \\ H_0 \\ if ? $$\n",
    "\n",
    "Step - 5.2: Compute p-value"
   ]
  },
  {
   "cell_type": "code",
   "execution_count": 47,
   "metadata": {},
   "outputs": [
    {
     "name": "stdout",
     "output_type": "stream",
     "text": [
      "4.25\n",
      "0.82915619758885\n"
     ]
    }
   ],
   "source": [
    "#Calculating sample mean,sample standard deviation\n",
    "sam = [4,3,5,4,5,3,5,5,4,2,4,5,5,4,4,5,4,5,4,5] \n",
    "sam_mean = np.mean(sam)\n",
    "sam_std = np.std(sam)\n",
    "pop_mean = 4\n",
    "sam_size = 20\n",
    "print(sam_mean)\n",
    "print(sam_std)"
   ]
  },
  {
   "cell_type": "code",
   "execution_count": 48,
   "metadata": {},
   "outputs": [
    {
     "name": "stdout",
     "output_type": "stream",
     "text": [
      "1.3483997249264843\n"
     ]
    }
   ],
   "source": [
    "#Calculating t-score\n",
    "T_score = t_score(sam_size,sam_mean,pop_mean,sam_std)\n",
    "print(T_score)"
   ]
  },
  {
   "cell_type": "code",
   "execution_count": 49,
   "metadata": {},
   "outputs": [
    {
     "name": "stdout",
     "output_type": "stream",
     "text": [
      "1.729132811521367\n"
     ]
    }
   ],
   "source": [
    "#Calculating t-critical\n",
    "confidence_level = 0.95\n",
    "df = 19\n",
    "alpha = 1 - confidence_level\n",
    "t_critical = t.ppf(1-alpha,df)\n",
    "print(t_critical)"
   ]
  },
  {
   "cell_type": "code",
   "execution_count": 50,
   "metadata": {},
   "outputs": [
    {
     "data": {
      "text/plain": [
       "Text(4.25, 0.01, 'x_bar')"
      ]
     },
     "execution_count": 50,
     "metadata": {},
     "output_type": "execute_result"
    },
    {
     "data": {
      "image/png": "[encoded data removed]",
      "text/plain": [
       "<Figure size 432x288 with 1 Axes>"
      ]
     },
     "metadata": {
      "needs_background": "light"
     },
     "output_type": "display_data"
    }
   ],
   "source": [
    "#plotting the sampling distribution with rejection region\n",
    "x_min = 3.5\n",
    "x_max = 4.5\n",
    "\n",
    "#defining the sample mean and sample standard deviation\n",
    "mean = pop_mean\n",
    "std = sam_std/ (sam_size**0.5)\n",
    "\n",
    "#plotting the graph and setting x_limit\n",
    "x = np.linspace(x_min,x_max,100)\n",
    "y = norm.pdf(x,mean,std)\n",
    "plt.xlim(x_min,x_max)\n",
    "plt.plot(x,y)\n",
    "\n",
    "#Computing critical t value\n",
    "t_critical_left = pop_mean + (-t_critical*std)\n",
    "t_critical_right = pop_mean + (t_critical * std)\n",
    "\n",
    "#Shading the left rejection region\n",
    "x1 = np.linspace(x_min,t_critical_left,100)\n",
    "y1 = norm.pdf(x1,mean,std)\n",
    "plt.fill_between(x1,y1,color='red')\n",
    "\n",
    "#shading the right rejection area\n",
    "x2 = np.linspace(t_critical_right,x_max,100)\n",
    "y2 = norm.pdf(x1,mean,std)\n",
    "plt.fill_between(x2,y2,color=\"red\")\n",
    "\n",
    "#plotting the sample_mean and concluding the results\n",
    "plt.scatter(sam_mean,0)\n",
    "plt.annotate(\"x_bar\",(sam_mean,0.01))"
   ]
  },
  {
   "cell_type": "code",
   "execution_count": 51,
   "metadata": {},
   "outputs": [
    {
     "name": "stdout",
     "output_type": "stream",
     "text": [
      "Failed to reject null hypothesis\n"
     ]
    }
   ],
   "source": [
    "#Conclusion using t-test\n",
    "if (t_critical<T_score):\n",
    "    print(\"Reject null hypothesis\")\n",
    "else: \n",
    "    print(\"Failed to reject null hypothesis\")"
   ]
  },
  {
   "cell_type": "code",
   "execution_count": 52,
   "metadata": {},
   "outputs": [
    {
     "name": "stdout",
     "output_type": "stream",
     "text": [
      "P_value : 0.08876492620607679\n",
      "Failed to reject null hypothesis\n"
     ]
    }
   ],
   "source": [
    "#Conclusion using p-test\n",
    "p_value = 1.0 - norm.cdf(np.abs(T_score))\n",
    "print(\"P_value :\",p_value)\n",
    "if(p_value<alpha):\n",
    "    print(\"Reject null hypothesis\")\n",
    "else:\n",
    "    print(\"Failed to reject null hypothesis\")"
   ]
  },
  {
   "cell_type": "markdown",
   "metadata": {},
   "source": [
    "###### Q-3: TATA has developed a better fuel management system for the SUV segment. They claim that with this system, on average the SUV's mileage is at least 15 km/litre? \n",
    "\n",
    "Step - 1:\n",
    "Alternate Hypothesis (Bold Claim):$$ \\ {H_1} = Average\\ mileage\\ is\\ atleast\\ 15km/litre $$Null Hypothesis (Status Quo):$$\\ {H_0} = Average\\ mileage\\ is\\ not\\ 15kmpl $$\n",
    "\n",
    "Step - 2:\n",
    "\n",
    "Collect a sample of size n = 20$$ [14.08, 14.13, 15.65, 13.78, 16.26, 14.97, 15.36, 15.81, 14.53, 16.79, 15.78, 16.98, 13.23, 15.43, 15.46, 13.88, 14.31, 14.41, 15.76, 15.38] $$\n",
    "Compute sample mean$$ \\bar{x} \\ = \\ ? $$\n",
    "Step - 3: Compute Test Statistic:$$ t = \\frac{\\bar{x}-\\mu_{\\bar{x}}}{\\frac{\\ S}{\\sqrt{n}}} $$\n",
    "\n",
    "Step - 4: Decide $ \\alpha $\n",
    "\n",
    "Step - 5.1: Compute tailed t-test:$$ reject \\ H_0 \\ if \\ ? $$\n",
    "\n",
    "Step - 5.2: Compute p-value"
   ]
  },
  {
   "cell_type": "code",
   "execution_count": 53,
   "metadata": {},
   "outputs": [
    {
     "name": "stdout",
     "output_type": "stream",
     "text": [
      "15.099\n",
      "0.9994043225842081\n"
     ]
    }
   ],
   "source": [
    "# calculate sample mean and sample standard deviation\n",
    "sam = [14.08,14.13,15.65,13.78,16.26,14.97,15.36,15.81,14.53,16.79,15.78,16.98,13.23,15.43,15.46,13.88,14.31,14.41,15.76,15.38]\n",
    "sam_mean = np.mean(sam)\n",
    "sam_std = np.std(sam)\n",
    "pop_mean = 15\n",
    "sam_size = 20\n",
    "print(sam_mean)\n",
    "print(sam_std)"
   ]
  },
  {
   "cell_type": "code",
   "execution_count": 54,
   "metadata": {},
   "outputs": [
    {
     "name": "stdout",
     "output_type": "stream",
     "text": [
      "0.4430053478257341\n"
     ]
    }
   ],
   "source": [
    "#calculate t-score\n",
    "T_score = t_score(sam_size,sam_mean,pop_mean,sam_std)\n",
    "print(T_score)"
   ]
  },
  {
   "cell_type": "code",
   "execution_count": 55,
   "metadata": {},
   "outputs": [
    {
     "name": "stdout",
     "output_type": "stream",
     "text": [
      "1.729132811521367\n"
     ]
    }
   ],
   "source": [
    "#Calculate t-critical\n",
    "confidence_level = 0.95\n",
    "alpha = 1 - confidence_level\n",
    "df = 19\n",
    "t_critical = t.ppf(1-alpha,df)\n",
    "print(t_critical)"
   ]
  },
  {
   "cell_type": "code",
   "execution_count": 56,
   "metadata": {},
   "outputs": [
    {
     "data": {
      "text/plain": [
       "Text(15.099, 0.01, 'x_bar')"
      ]
     },
     "execution_count": 56,
     "metadata": {},
     "output_type": "execute_result"
    },
    {
     "data": {
      "image/png": "[encoded data removed]",
      "text/plain": [
       "<Figure size 432x288 with 1 Axes>"
      ]
     },
     "metadata": {
      "needs_background": "light"
     },
     "output_type": "display_data"
    }
   ],
   "source": [
    "#plotting sampling distribution with rejection region\n",
    "x_min = 13\n",
    "x_max = 17\n",
    "\n",
    "#defining the sample mean and sample std\n",
    "mean = pop_mean\n",
    "std = sam_std / (sam_size**0.5)\n",
    "\n",
    "#plotting the graph and setting x limits\n",
    "x = np.linspace(x_min, x_max,100)\n",
    "y = norm.pdf(x,mean,std)\n",
    "plt.xlim(x_min,x_max)\n",
    "plt.plot(x,y)\n",
    "\n",
    "#defining the t critical value\n",
    "t_critical_left = pop_mean + (-t_critical*std)\n",
    "t_critical_right = pop_mean + (t_critical * std)\n",
    "\n",
    "#Shading the left rejection region\n",
    "x1 = np.linspace(x_min,t_critical_left,100)\n",
    "y1 = norm.pdf(x1,mean,std)\n",
    "plt.fill_between(x1,y1,color='red')\n",
    "\n",
    "#shading the rejection region\n",
    "x2 = np.linspace(t_critical_right,x_max,100)\n",
    "y2 = norm.pdf(x1,mean, std)\n",
    "plt.fill_between(x2,y2,color='red')\n",
    "\n",
    "#plotting sample mean and concluding results\n",
    "plt.scatter(sam_mean,0)\n",
    "plt.annotate(\"x_bar\",(sam_mean,0.01))"
   ]
  },
  {
   "cell_type": "code",
   "execution_count": 57,
   "metadata": {},
   "outputs": [
    {
     "name": "stdout",
     "output_type": "stream",
     "text": [
      "Failed to reject null hypothesis\n"
     ]
    }
   ],
   "source": [
    "#Conclusion using t-test\n",
    "if(T_score>t_critical):\n",
    "    print(\"Reject null hypothesis\")\n",
    "else: \n",
    "    print(\"Failed to reject null hypothesis\")"
   ]
  },
  {
   "cell_type": "code",
   "execution_count": 58,
   "metadata": {},
   "outputs": [
    {
     "name": "stdout",
     "output_type": "stream",
     "text": [
      "P_value 0.3288809332844478\n",
      "Failed to reject null hypothesis\n"
     ]
    }
   ],
   "source": [
    "#Conclusion using p-test\n",
    "p_value = 1.0 - norm.cdf(np.abs(T_score))\n",
    "print(\"P_value\",p_value)\n",
    "if (p_value<alpha):\n",
    "    print(\"Reject null hypothesis\")\n",
    "else:\n",
    "    print(\"Failed to reject null hypothesis\")"
   ]
  },
  {
   "cell_type": "markdown",
   "metadata": {},
   "source": [
    "###### Q-4: You have developed a new Machine Learning Application and claim that on average it takes less than 100 ms to predict for any future datapoint. How do you convince your client about this claim?\n",
    "\n",
    "Step - 1:\n",
    "Alternate Hypothesis (Bold Claim):$$\\ {H_1} = Takes\\ less\\ than\\ 100ms\\ for\\ prediction $$Null Hypothesis (Status Quo):$$\\ {H_0} = Takes\\ more\\ than\\ 100ms $$\n",
    "\n",
    "Step - 2:\n",
    "\n",
    "Collect a sample of size n = 20$$  [109,98,86,119,88,97,94,96,118,101,104,108,99,92,81,115,106,101,111,90] $$\n",
    "\n",
    "Compute sample mean$$ \\bar{x} \\ = \\ ? $$\n",
    "Step - 3: Compute Test Statistic:$$ t = \\frac{\\bar{x}-\\mu_{\\bar{x}}}{\\frac{\\ S}{\\sqrt{n}}} $$\n",
    "\n",
    "Step - 4: Decide $ \\alpha $\n",
    "\n",
    "Step - 5.1: Compute tailed t-test:$$ reject \\ H_0 \\ if \\ ? $$\n",
    "\n",
    "Step - 5.2: Compute p-value"
   ]
  },
  {
   "cell_type": "code",
   "execution_count": 59,
   "metadata": {},
   "outputs": [
    {
     "name": "stdout",
     "output_type": "stream",
     "text": [
      "100.65\n",
      "10.374367450596688\n"
     ]
    }
   ],
   "source": [
    "#Calculating sample mean and sample standard deviation\n",
    "sam = [109,98,86,119,88,97,94,96,118,101,104,108,99,92,81,115,106,101,111,90]\n",
    "sam_mean = np.mean(sam)\n",
    "sam_std = np.std(sam)\n",
    "pop_mean = 100\n",
    "sam_size = 20\n",
    "print(sam_mean)\n",
    "print(sam_std)"
   ]
  },
  {
   "cell_type": "code",
   "execution_count": 60,
   "metadata": {},
   "outputs": [
    {
     "name": "stdout",
     "output_type": "stream",
     "text": [
      "0.2801990949898888\n"
     ]
    }
   ],
   "source": [
    "#calculating t-score\n",
    "T_score = t_score(sam_size,sam_mean,pop_mean,sam_std)\n",
    "print(T_score)"
   ]
  },
  {
   "cell_type": "code",
   "execution_count": 61,
   "metadata": {},
   "outputs": [
    {
     "name": "stdout",
     "output_type": "stream",
     "text": [
      "2.539483190622288\n"
     ]
    }
   ],
   "source": [
    "#calculating t-critical\n",
    "confidence_level = 0.99\n",
    "alpha = 1 - confidence_level\n",
    "df = 19\n",
    "t_critical = t.ppf(1-alpha,df)\n",
    "print(t_critical)"
   ]
  },
  {
   "cell_type": "code",
   "execution_count": 62,
   "metadata": {},
   "outputs": [
    {
     "data": {
      "text/plain": [
       "Text(100.65, 0.01, 'x_bar')"
      ]
     },
     "execution_count": 62,
     "metadata": {},
     "output_type": "execute_result"
    },
    {
     "data": {
      "image/png": "[encoded data removed]",
      "text/plain": [
       "<Figure size 432x288 with 1 Axes>"
      ]
     },
     "metadata": {
      "needs_background": "light"
     },
     "output_type": "display_data"
    }
   ],
   "source": [
    "#plotting sample distribution with rejection region\n",
    "x_min = 80\n",
    "x_max = 120\n",
    "\n",
    "#Calculating mean and standard deviation\n",
    "mean = pop_mean\n",
    "std = sam_std / (sam_size**0.5)\n",
    "\n",
    "#plotting the graph and setting xlimits\n",
    "x = np.linspace(x_min,x_max,100)\n",
    "y = norm.pdf(x,mean,std)\n",
    "plt.xlim(x_min,x_max)\n",
    "plt.plot(x,y)\n",
    "\n",
    "#defining t critical left value\n",
    "t_critical_left = pop_mean + (-t_critical * std)\n",
    "t_critical_right = pop_mean + (t_critical*std)\n",
    "\n",
    "#shading the rejection region\n",
    "x1 = np.linspace(x_min,t_critical_left,100)\n",
    "y1 = norm.pdf(x1,mean,std)\n",
    "plt.fill_between(x1,y1,color='red')\n",
    "\n",
    "#Shading the right rejection region\n",
    "x2 = np.linspace(t_critical_right,x_max,100)\n",
    "y2 = norm.pdf(x2,mean,std)\n",
    "plt.fill_between(x2,y2,color='red')\n",
    "\n",
    "#Plotting sample mean and conclusion\n",
    "plt.scatter(sam_mean,0)\n",
    "plt.annotate(\"x_bar\",(sam_mean,0.01))"
   ]
  },
  {
   "cell_type": "code",
   "execution_count": 63,
   "metadata": {},
   "outputs": [
    {
     "name": "stdout",
     "output_type": "stream",
     "text": [
      "Failed to reject null hypothesis\n"
     ]
    }
   ],
   "source": [
    "#conclusion using t_test\n",
    "if (T_score<-t_critical):\n",
    "    print(\"Reject null hypothesis\")\n",
    "else:\n",
    "    print(\"Failed to reject null hypothesis\")"
   ]
  },
  {
   "cell_type": "code",
   "execution_count": 64,
   "metadata": {},
   "outputs": [
    {
     "name": "stdout",
     "output_type": "stream",
     "text": [
      "P_value: 0.38966238048260804\n",
      "Failed to reject null hypothesis\n"
     ]
    }
   ],
   "source": [
    "#Conclusion using p- test\n",
    "p_value = 1.0 - norm.cdf(np.abs(T_score))\n",
    "print(\"P_value:\",p_value)\n",
    "if (p_value<alpha):\n",
    "    print(\"Reject null hypothesis\")\n",
    "else: \n",
    "    print(\"Failed to reject null hypothesis\")"
   ]
  },
  {
   "cell_type": "code",
   "execution_count": null,
   "metadata": {},
   "outputs": [],
   "source": []
  }
 ],
 "metadata": {
  "kernelspec": {
   "display_name": "Python 3",
   "language": "python",
   "name": "python3"
  },
  "language_info": {
   "codemirror_mode": {
    "name": "ipython",
    "version": 3
   },
   "file_extension": ".py",
   "mimetype": "text/x-python",
   "name": "python",
   "nbconvert_exporter": "python",
   "pygments_lexer": "ipython3",
   "version": "3.8.5"
  }
 },
 "nbformat": 4,
 "nbformat_minor": 4
}
