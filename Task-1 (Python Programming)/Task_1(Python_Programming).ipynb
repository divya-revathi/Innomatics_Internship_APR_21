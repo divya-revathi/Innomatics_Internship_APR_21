{
  "nbformat": 4,
  "nbformat_minor": 0,
  "metadata": {
    "colab": {
      "name": "Task 1(Python Programming).ipynb",
      "provenance": [],
      "collapsed_sections": []
    },
    "kernelspec": {
      "name": "python3",
      "display_name": "Python 3"
    },
    "language_info": {
      "name": "python"
    }
  },
  "cells": [
    {
      "cell_type": "code",
      "metadata": {
        "colab": {
          "base_uri": "https://localhost:8080/"
        },
        "id": "wb4XCECjoFyk",
        "outputId": "eee9569d-bcd6-44e0-8000-d829899cc638"
      },
      "source": [
        "#Ques-1: Print Hello, World! to stdout.\n",
        "\n",
        "print(\"Hello, World!\")"
      ],
      "execution_count": 4,
      "outputs": [
        {
          "output_type": "stream",
          "text": [
            "Hello, World!\n"
          ],
          "name": "stdout"
        }
      ]
    },
    {
      "cell_type": "code",
      "metadata": {
        "colab": {
          "base_uri": "https://localhost:8080/"
        },
        "id": "Aqvh1jQFpSr6",
        "outputId": "0ea2acbc-ea04-49e0-9db4-0290409fb77c"
      },
      "source": [
        "#Ques-2: Given an integer,n, perform the following conditional actions:\n",
        "#If n is odd, print Weird\n",
        "#If n is even and in the inclusive range of 2 to 5, print Not Weird\n",
        "#If n is even and in the inclusive range of 6 to 20, print Weird\n",
        "#If n is even and greater than , print Not Weird\n",
        "\n",
        "\n",
        "import math\n",
        "import os\n",
        "import random\n",
        "import re\n",
        "import sys\n",
        "\n",
        "\n",
        "n= int(input())\n",
        "if(n>0 and n<=100):\n",
        " if(n%2==0):\n",
        "  if(n>=6 and n<=20):\n",
        "   print(\"Weird\")\n",
        "  else: print(\"Not Weird\")\n",
        " else: print(\"Weird\")\n",
        "else: exit(0)"
      ],
      "execution_count": 22,
      "outputs": [
        {
          "output_type": "stream",
          "text": [
            "5\n",
            "Weird\n"
          ],
          "name": "stdout"
        }
      ]
    },
    {
      "cell_type": "code",
      "metadata": {
        "colab": {
          "base_uri": "https://localhost:8080/"
        },
        "id": "T-5KT70Q98G3",
        "outputId": "adfae1ce-7de3-410e-c8e8-b45c82345ac6"
      },
      "source": [
        "#Ques-3: The provided code stub reads two integers from STDIN, a and b. Add code to print three lines where:\n",
        "#The first line contains the sum of the two numbers.\n",
        "#The second line contains the difference of the two numbers (first - second).\n",
        "#The third line contains the product of the two numbers.\n",
        "\n",
        "\n",
        "a = int(input())\n",
        "b = int(input())\n",
        "print(a+b)\n",
        "print(a-b)\n",
        "print(a*b)"
      ],
      "execution_count": 18,
      "outputs": [
        {
          "output_type": "stream",
          "text": [
            "5\n",
            "1\n",
            "6\n",
            "4\n",
            "5\n"
          ],
          "name": "stdout"
        }
      ]
    },
    {
      "cell_type": "code",
      "metadata": {
        "colab": {
          "base_uri": "https://localhost:8080/"
        },
        "id": "jOiD-1lv_DKZ",
        "outputId": "19c3f0ca-4d3e-4d27-a9ab-10d5d1f0243f"
      },
      "source": [
        "#Ques-4: The provided code stub reads two integers, a and b, from STDIN.\n",
        "#Add logic to print two lines. The first line should contain the result of integer division, a//b . The second line should contain the result of float division,  a/b .\n",
        "#No rounding or formatting is necessary.\n",
        "\n",
        "\n",
        "a = int(input())\n",
        "b = int(input())\n",
        "\n",
        "print(a//b)\n",
        "print(a/b)"
      ],
      "execution_count": 37,
      "outputs": [
        {
          "output_type": "stream",
          "text": [
            "4\n",
            "2\n",
            "2\n",
            "2.0\n"
          ],
          "name": "stdout"
        }
      ]
    },
    {
      "cell_type": "code",
      "metadata": {
        "colab": {
          "base_uri": "https://localhost:8080/"
        },
        "id": "ZnngwNCb_uxq",
        "outputId": "c0208793-538e-4e1a-a85d-3558e2f89cad"
      },
      "source": [
        "#Ques-5: For all non-negative integers i<n, print the square of each number on a separate line.\n",
        "\n",
        "\n",
        "n=int(input())\n",
        "if(n>0 and n<=20):\n",
        " for x in range(n):\n",
        "  print(x*x)\n",
        "  x+=1\n",
        "else: exit(0)"
      ],
      "execution_count": 23,
      "outputs": [
        {
          "output_type": "stream",
          "text": [
            "7\n",
            "0\n",
            "1\n",
            "4\n",
            "9\n",
            "16\n",
            "25\n",
            "36\n"
          ],
          "name": "stdout"
        }
      ]
    },
    {
      "cell_type": "code",
      "metadata": {
        "colab": {
          "base_uri": "https://localhost:8080/"
        },
        "id": "1eA7CyoeEjx-",
        "outputId": "351de116-18a3-4be3-9231-b0ef23171a76"
      },
      "source": [
        "#Ques-6: Given a year, determine whether it is a leap year. If it is a leap year, return the Boolean True, otherwise return False.\n",
        "#Note that the code stub provided reads from STDIN and passes arguments to the is_leap function. It is only necessary to complete the is_leap function.\n",
        "\n",
        "\n",
        "def is_leap(year):\n",
        "    leap = False\n",
        "    \n",
        "    if (year % 4) == 0:\n",
        "        if (year % 100) == 0:\n",
        "            if (year % 400) == 0:\n",
        "                leap=True\n",
        "            else:\n",
        "                leap=False\n",
        "        else:\n",
        "             leap=True\n",
        "    else:\n",
        "        leap=False\n",
        "\n",
        "\n",
        "    \n",
        "    return leap\n",
        "\n",
        "year = int(input())\n",
        "print(is_leap(year))"
      ],
      "execution_count": 34,
      "outputs": [
        {
          "output_type": "stream",
          "text": [
            "2021\n",
            "False\n"
          ],
          "name": "stdout"
        }
      ]
    },
    {
      "cell_type": "code",
      "metadata": {
        "colab": {
          "base_uri": "https://localhost:8080/"
        },
        "id": "wCRfemgqI3ZQ",
        "outputId": "3a9b9a37-9115-40b8-c4b7-971379e6f82a"
      },
      "source": [
        "#Ques-7: Print the list of integers from 1 through n as a string, without spaces.\n",
        "\n",
        "\n",
        "n = int(input())\n",
        "\n",
        "for x in range(n):\n",
        "    print(x+1 , end=\"\")"
      ],
      "execution_count": 36,
      "outputs": [
        {
          "output_type": "stream",
          "text": [
            "5\n",
            "12345"
          ],
          "name": "stdout"
        }
      ]
    }
  ]
}