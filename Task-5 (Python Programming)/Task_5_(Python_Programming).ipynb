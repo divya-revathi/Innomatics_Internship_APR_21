{
  "nbformat": 4,
  "nbformat_minor": 0,
  "metadata": {
    "colab": {
      "name": "Task-5 (Python Programming).ipynb",
      "provenance": [],
      "collapsed_sections": []
    },
    "kernelspec": {
      "name": "python3",
      "display_name": "Python 3"
    },
    "language_info": {
      "name": "python"
    }
  },
  "cells": [
    {
      "cell_type": "code",
      "metadata": {
        "colab": {
          "base_uri": "https://localhost:8080/"
        },
        "id": "sYmFO3w66br0",
        "outputId": "e21b491f-9e43-4c56-fe31-8faa81c7954c"
      },
      "source": [
        "#Ques-1 Detecting floatiing point number\n",
        "# Enter your code here. Read input from STDIN. Print output to STDOUT\n",
        "import re\n",
        "    \n",
        "def validregex(string):\n",
        "    if(string[0] == '.'):\n",
        "        return(bool(re.match(r'\\.[0-9]+$',string)))   \n",
        "    else:\n",
        "        return(bool(re.match(r'[0-9+-][0-9]*\\.[0-9]+$',string)))\n",
        "\n",
        "num = int(input())\n",
        "for i in range(num):\n",
        "    print(validregex(input()))"
      ],
      "execution_count": null,
      "outputs": [
        {
          "output_type": "stream",
          "text": [
            "2\n",
            "-1.34\n",
            "True\n",
            "4.o0\n",
            "False\n"
          ],
          "name": "stdout"
        }
      ]
    },
    {
      "cell_type": "code",
      "metadata": {
        "colab": {
          "base_uri": "https://localhost:8080/"
        },
        "id": "LS-7zh0eAqUM",
        "outputId": "0b4cd902-1f67-4023-b642-684e80e74c65"
      },
      "source": [
        "#Ques-2 Re.Split()\n",
        "\n",
        "regex_pattern = r\"[,.]\"\t# Do not delete 'r'.\n",
        "\n",
        "import re\n",
        "print(\"\\n\".join(re.split(regex_pattern, input())))"
      ],
      "execution_count": null,
      "outputs": [
        {
          "output_type": "stream",
          "text": [
            "100,000,000.000\n",
            "100\n",
            "000\n",
            "000\n",
            "000\n"
          ],
          "name": "stdout"
        }
      ]
    },
    {
      "cell_type": "code",
      "metadata": {
        "colab": {
          "base_uri": "https://localhost:8080/"
        },
        "id": "k-02irXjD19Z",
        "outputId": "724ce053-4c46-4acb-bab1-c3e5b7beb440"
      },
      "source": [
        "#Ques-3 Group,Groups and Group Dictionary\n",
        "\n",
        "import re\n",
        "pattern = r'([0-9a-zA-Z])\\1'\n",
        "inp=input()\n",
        "match = re.search(pattern, inp)\n",
        "if match:\n",
        "    print(match.group(0)[0])\n",
        "else: \n",
        "    print(-1)"
      ],
      "execution_count": null,
      "outputs": [
        {
          "output_type": "stream",
          "text": [
            "123456789011112121221111234\n",
            "1\n"
          ],
          "name": "stdout"
        }
      ]
    },
    {
      "cell_type": "code",
      "metadata": {
        "colab": {
          "base_uri": "https://localhost:8080/"
        },
        "id": "uZhlkZhqED7c",
        "outputId": "a22d1e3f-1322-4479-a297-240497908b9c"
      },
      "source": [
        "#Ques-4 Re.findall() re.finditer()\n",
        "\n",
        "import re\n",
        "consonants = 'QWRTYPSDFGHJKLZXCVBNMqwrtypsdfghjklzxcvbnm'\n",
        "vowels = 'AEIOUaeiou'\n",
        "pattern = r'(?=[{0}]([{1}]{{2,}})[{0}])'.format(consonants, vowels)\n",
        "match = re.findall(pattern, input())\n",
        "if match: print(*match, sep='\\n')\n",
        "else: print(-1)"
      ],
      "execution_count": null,
      "outputs": [
        {
          "output_type": "stream",
          "text": [
            "najkflkksndjajwdjJkDJJAnjskaaaasjdkekeeeksnjdm\n",
            "aaaa\n",
            "eee\n"
          ],
          "name": "stdout"
        }
      ]
    },
    {
      "cell_type": "code",
      "metadata": {
        "colab": {
          "base_uri": "https://localhost:8080/"
        },
        "id": "cfwivJh1GrDT",
        "outputId": "bc8f8a38-62a0-45c9-af69-f4d8fd2ca16b"
      },
      "source": [
        "#Ques-5 Start and End\n",
        "\n",
        "import re\n",
        "string = input()\n",
        "tupel = input()\n",
        "match = False\n",
        "for m in re.finditer(r'(?=('+tupel+'))',string):\n",
        "    match = True\n",
        "    print((m.start(1),m.end(1)-1))\n",
        "if match == False:\n",
        "    print((-1, -1))"
      ],
      "execution_count": null,
      "outputs": [
        {
          "output_type": "stream",
          "text": [
            "aaabbeeaaa\n",
            "aa\n",
            "(0, 1)\n",
            "(1, 2)\n",
            "(7, 8)\n",
            "(8, 9)\n"
          ],
          "name": "stdout"
        }
      ]
    },
    {
      "cell_type": "code",
      "metadata": {
        "colab": {
          "base_uri": "https://localhost:8080/"
        },
        "id": "Z1wK1WLHJ6U9",
        "outputId": "c9bd949e-8db9-41c4-8c7e-4f71c11897cf"
      },
      "source": [
        "#Ques-6 Text Substitution\n",
        "\n",
        "import re\n",
        "\n",
        "lines = int(input())\n",
        "for i in range(0,lines):\n",
        "   text = input()\n",
        "   text = re.sub(r\"\\ \\&\\&\\ \",\" and \",text)\n",
        "   text = re.sub(r\"\\ \\|\\|\\ \",\" or \",text)\n",
        "   text = re.sub(r\"\\ \\&\\&\\ \",\" and \",text)\n",
        "   text = re.sub(r\"\\ \\|\\|\\ \",\" or \",text)\n",
        "   print(text)"
      ],
      "execution_count": null,
      "outputs": [
        {
          "output_type": "stream",
          "text": [
            "4\n",
            "hkjfsghbg && kjxgl\n",
            "hkjfsghbg and kjxgl\n",
            "jdgakkfn || dnglfkf\n",
            "jdgakkfn or dnglfkf\n",
            "jshgbkflgah & & jnha&jjhg&&jfng\n",
            "jshgbkflgah & & jnha&jjhg&&jfng\n",
            "jdhvhsh && kmxk||njjsdnghb\n",
            "jdhvhsh and kmxk||njjsdnghb\n"
          ],
          "name": "stdout"
        }
      ]
    },
    {
      "cell_type": "code",
      "metadata": {
        "colab": {
          "base_uri": "https://localhost:8080/"
        },
        "id": "q1SApR_AOMQ6",
        "outputId": "f896c225-66ad-46ab-f0b3-1b575e1608e5"
      },
      "source": [
        "#Ques-7 Roman Number Validation\n",
        "\n",
        "regex_pattern = r'^M{0,3}(CM|CD|D?C{0,3})(XC|XL|L?X{0,3})(IX|IV|V?I{0,3})$'\t# Do not delete 'r'.\n",
        "\n",
        "import re\n",
        "print(str(bool(re.match(regex_pattern, input()))))"
      ],
      "execution_count": null,
      "outputs": [
        {
          "output_type": "stream",
          "text": [
            "CDXII\n",
            "True\n"
          ],
          "name": "stdout"
        }
      ]
    },
    {
      "cell_type": "code",
      "metadata": {
        "colab": {
          "base_uri": "https://localhost:8080/"
        },
        "id": "Du0Ly6VYTj-B",
        "outputId": "0730512d-bf25-4231-b219-d9b07418c7b0"
      },
      "source": [
        "#Ques-8 Validating Phone number\n",
        "\n",
        "import re\n",
        "N = int(input())\n",
        "for i in range(N):\n",
        "    string = input()\n",
        "    match = re.search(\"^[789][0-9]{9}$\", string)\n",
        "    if match:\n",
        "        print(\"YES\")\n",
        "    else:\n",
        "        print(\"NO\")"
      ],
      "execution_count": null,
      "outputs": [
        {
          "output_type": "stream",
          "text": [
            "2\n",
            "9884363776\n",
            "YES\n",
            "1234567890\n",
            "NO\n"
          ],
          "name": "stdout"
        }
      ]
    },
    {
      "cell_type": "code",
      "metadata": {
        "colab": {
          "base_uri": "https://localhost:8080/"
        },
        "id": "_1DmMU51zc7k",
        "outputId": "d9146f8b-c835-4570-d85e-3d053259e779"
      },
      "source": [
        "#Ques-9 Email Parsing\n",
        "\n",
        "import re\n",
        "\n",
        "n = int(input())\n",
        "for i in range(n):\n",
        "   string = input().strip()\n",
        "   address = string[string.find(\"<\") + 1:-1]\n",
        "   if(re.match(r\"^[a-zA-Z]+?[a-zA-Z-0-9\\-\\._]*?@[a-zA-Z]+?\\.[a-zA-Z]{1,3}$\",address)):\n",
        "     print(string)"
      ],
      "execution_count": null,
      "outputs": [
        {
          "output_type": "stream",
          "text": [
            "2\n",
            "dexter <dexter@hotmail.com\n",
            "dexter <dexter@hotmail.com\n",
            "virus <virus!.gmail..in\n"
          ],
          "name": "stdout"
        }
      ]
    },
    {
      "cell_type": "code",
      "metadata": {
        "colab": {
          "base_uri": "https://localhost:8080/"
        },
        "id": "acibrGcs1DLY",
        "outputId": "0a809c90-efdb-42bc-f4ef-be686cb1ffe3"
      },
      "source": [
        "#Ques-10 Hex code\n",
        "\n",
        "import re\n",
        "num = int(input())\n",
        "css_code = [input() for i in range(num)]\n",
        "css_pattern = '0123456789abcdefABCDEF'\n",
        "for i in range(num):\n",
        "    match = re.findall('(?!\\A)(#[a-fA-f_0-9]{6}|#[a-fA-f_0-9]{3})', css_code[i])\n",
        "    if match != []:\n",
        "        for i in match:\n",
        "            print(i)"
      ],
      "execution_count": null,
      "outputs": [
        {
          "output_type": "stream",
          "text": [
            "3\n",
            "#abc\n",
            "bdjkvkd #2fdc\n",
            "sjdfj: #jhgl\n",
            "#2fd\n"
          ],
          "name": "stdout"
        }
      ]
    },
    {
      "cell_type": "code",
      "metadata": {
        "colab": {
          "base_uri": "https://localhost:8080/"
        },
        "id": "2RY0zyod4Blp",
        "outputId": "5ad4853a-da91-4a8e-de42-e8692fb39a45"
      },
      "source": [
        "#Ques-11 HTML parser\n",
        "\n",
        "# Enter your code here. Read input from STDIN. Print output to STDOUT\n",
        "from html.parser import HTMLParser\n",
        "\n",
        "class MyHTMLParser(HTMLParser):\n",
        "\n",
        "    def handle_starttag(self, tag, attrs):\n",
        "        print(\"Start : {0}\".format(tag))\n",
        "        for key, val in attrs:\n",
        "            print(\"-> {0} > {1}\".format(key, val))\n",
        "\n",
        "    def handle_endtag(self, tag):\n",
        "        print(\"End   : {0}\".format(tag))\n",
        "\n",
        "    def handle_startendtag(self, tag, attrs):\n",
        "        print(\"Empty : {0}\".format(tag))\n",
        "        for key, val in attrs:\n",
        "            print(\"-> {0} > {1}\".format(key, val))\n",
        "\n",
        "parser = MyHTMLParser()\n",
        "lines = []\n",
        "n = int(input())\n",
        "for i in range(n):\n",
        "    lines.append(str(input()).strip())\n",
        "\n",
        "parser.feed(''.join(lines))"
      ],
      "execution_count": null,
      "outputs": [
        {
          "output_type": "stream",
          "text": [
            "1\n",
            "<head><title><body>hackerrank</body></title></head>\n",
            "Start : head\n",
            "Start : title\n",
            "Start : body\n",
            "End   : body\n",
            "End   : title\n",
            "End   : head\n"
          ],
          "name": "stdout"
        }
      ]
    },
    {
      "cell_type": "code",
      "metadata": {
        "colab": {
          "base_uri": "https://localhost:8080/"
        },
        "id": "I2EFHHyX6arj",
        "outputId": "66a3e766-122b-41ba-eb2b-46fae3911cd8"
      },
      "source": [
        "#Ques-12 HTML Parser 2\n",
        "\n",
        "from html.parser import HTMLParser\n",
        "\n",
        "class MyHTMLParser(HTMLParser):\n",
        " def handle_data(self, data):\n",
        "        if ( len(data.strip()) > 0 ):\n",
        "            print(\">>> Data\")\n",
        "            print( data )  \n",
        "\n",
        " def handle_comment(self, data):\n",
        "        arr = data.split('\\n')\n",
        "        if ( len(arr) > 1 ):\n",
        "            print(\">>> Multi-line Comment\")\n",
        "        else:\n",
        "            print(\">>> Single-line Comment\")\n",
        "        for i in arr:\n",
        "            print( i )\n",
        "  \n",
        "  \n",
        "html = \"\"       \n",
        "for i in range(int(input())):\n",
        "    html += input().rstrip()\n",
        "    html += '\\n'\n",
        "    \n",
        "parser = MyHTMLParser()\n",
        "parser.feed(html)\n",
        "parser.close()"
      ],
      "execution_count": null,
      "outputs": [
        {
          "output_type": "stream",
          "text": [
            "2\n",
            "<!--[if IE 9]>IE9-specific content <![endif]--> <div> Welcome to HackerRank</div> <!--[if IE 9]>IE9-specific content<![endif]-->\n",
            "<!--[if IE 9]>IE9-specific content <![endif]--> <div> Welcome to HackerRank</div> <!--[if IE 9]>IE9-specific content<![endif]-->\n",
            ">>> Single-line Comment\n",
            "[if IE 9]>IE9-specific content <![endif]\n",
            ">>> Data\n",
            " Welcome to HackerRank\n",
            ">>> Single-line Comment\n",
            "[if IE 9]>IE9-specific content<![endif]\n",
            ">>> Single-line Comment\n",
            "[if IE 9]>IE9-specific content <![endif]\n",
            ">>> Data\n",
            " Welcome to HackerRank\n",
            ">>> Single-line Comment\n",
            "[if IE 9]>IE9-specific content<![endif]\n"
          ],
          "name": "stdout"
        }
      ]
    },
    {
      "cell_type": "code",
      "metadata": {
        "colab": {
          "base_uri": "https://localhost:8080/"
        },
        "id": "hOTxQ-zj8ucp",
        "outputId": "f5d9b553-ee29-45ec-a8bd-d72fcfb97288"
      },
      "source": [
        "#Ques-13 detecting HTML tags, attributes\n",
        "\n",
        "from html.parser import HTMLParser\n",
        "\n",
        "class Parser(HTMLParser):\n",
        "    def handle_starttag(self, tag, attrs):\n",
        "        print(tag)\n",
        "        for attr in attrs:\n",
        "            prop,value = attr\n",
        "            print(\"-> \" + prop + \" > \" + value)\n",
        "\n",
        "N=int(input())\n",
        "string=\"\"\n",
        "for i in range(N):\n",
        "    string+= \" \" + input()\n",
        "\n",
        "parser = Parser()\n",
        "parser.feed(string)"
      ],
      "execution_count": null,
      "outputs": [
        {
          "output_type": "stream",
          "text": [
            "1\n",
            "<head> <title>HTML</title> </head> <object type=\"application/x-flash\"    data=\"your-file.swf\"    width=\"0\" height=\"0\">   <!-- <param name=\"movie\" value=\"your-file.swf\" /> -->   <param name=\"quality\" value=\"high\"/> </object>\n",
            "head\n",
            "title\n",
            "object\n",
            "-> type > application/x-flash\n",
            "-> data > your-file.swf\n",
            "-> width > 0\n",
            "-> height > 0\n",
            "param\n",
            "-> name > quality\n",
            "-> value > high\n"
          ],
          "name": "stdout"
        }
      ]
    },
    {
      "cell_type": "code",
      "metadata": {
        "colab": {
          "base_uri": "https://localhost:8080/"
        },
        "id": "ksG9eRT-89c3",
        "outputId": "029e90e1-d9c7-4d67-e6f1-ef0e22c3e4f9"
      },
      "source": [
        "#Ques-14 Validating UID\n",
        "\n",
        "import re\n",
        "\n",
        "uid_pattern = r'(?!.*(.).*\\1)(?=(.)(?!.*\\2))(?=.*[A-Z].*[A-Z])(?=.*[0-9].*[0-9].*[0-9])(?=[a-zA-Z0-9]{10}$)'\n",
        "\n",
        "for _ in range(int(input())):\n",
        "    user_id = input()\n",
        "    print('Valid' if re.match(uid_pattern,user_id) else 'Invalid')"
      ],
      "execution_count": null,
      "outputs": [
        {
          "output_type": "stream",
          "text": [
            "2\n",
            "B1CD102354\n",
            "Invalid\n",
            "B1CDEF2354\n",
            "Valid\n"
          ],
          "name": "stdout"
        }
      ]
    },
    {
      "cell_type": "code",
      "metadata": {
        "id": "e4DF38T39zSm",
        "colab": {
          "base_uri": "https://localhost:8080/"
        },
        "outputId": "6beca986-49a0-4da1-ac3a-5755caedf276"
      },
      "source": [
        "#Ques-15 Validating Credit Cards\n",
        "# Enter your code here. Read input from STDIN. Print output to STDOUT\n",
        "\n",
        "def validate_card(credit_card):\n",
        "    if credit_card[0] not in [\"4\", \"5\", \"6\"]:\n",
        "        return False\n",
        "    if len(credit_card) != 16 and len(credit_card) != 19:\n",
        "        return False\n",
        "\n",
        "    if credit_card[4] == '-' and credit_card[9] == '-' and credit_card[14]:\n",
        "        credit_card = credit_card[:14] + credit_card[15:]\n",
        "        credit_card = credit_card[:9] + credit_card[10:]\n",
        "        credit_card = credit_card[:4] + credit_card[5:]\n",
        "\n",
        "    if not credit_card.isdigit():\n",
        "        return False\n",
        "\n",
        "    for i in range(1, 10):\n",
        "        if str(i) * 4 in credit_card:\n",
        "            return False\n",
        "\n",
        "    return True\n",
        "\n",
        "\n",
        "n = int(input())\n",
        "for _ in range(n):\n",
        "  card_num = input()\n",
        "  print(\"Valid\" if validate_card(card_num) else \"Invalid\")"
      ],
      "execution_count": 1,
      "outputs": [
        {
          "output_type": "stream",
          "text": [
            "3\n",
            "4123456789123456\n",
            "Valid\n",
            "5123-4567-8912-3456\n",
            "Valid\n",
            "61234-567-8912-3456\n",
            "Invalid\n"
          ],
          "name": "stdout"
        }
      ]
    },
    {
      "cell_type": "code",
      "metadata": {
        "colab": {
          "base_uri": "https://localhost:8080/"
        },
        "id": "X0_BSM44o48X",
        "outputId": "d5bc251a-c41a-42cd-ee5a-b1cbf93a2625"
      },
      "source": [
        "#Ques-16 Validating Postal codes\n",
        "\n",
        "regex_integer_in_range = r\"^[1-9]\\d{5}$\"\t# Do not delete 'r'.\n",
        "regex_alternating_repetitive_digit_pair = r\"(\\d)(?=.\\1)\"\t# Do not delete 'r'.\n",
        "\n",
        "\n",
        "import re\n",
        "P = input()\n",
        "\n",
        "print (bool(re.match(regex_integer_in_range, P)) \n",
        "and len(re.findall(regex_alternating_repetitive_digit_pair, P)) < 2)"
      ],
      "execution_count": 2,
      "outputs": [
        {
          "output_type": "stream",
          "text": [
            "531035\n",
            "True\n"
          ],
          "name": "stdout"
        }
      ]
    },
    {
      "cell_type": "code",
      "metadata": {
        "colab": {
          "base_uri": "https://localhost:8080/"
        },
        "id": "oVQSUWkFqNFf",
        "outputId": "6819c330-99f5-4944-aa61-13c933ba8c55"
      },
      "source": [
        "#Ques-17 Matrix Script\n",
        "#!/bin/python3\n",
        "\n",
        "import math\n",
        "import os\n",
        "import random\n",
        "import re\n",
        "import sys\n",
        "\n",
        "\n",
        "\n",
        "\n",
        "first_multiple_input = input().rstrip().split()\n",
        "\n",
        "n = int(first_multiple_input[0])\n",
        "\n",
        "m = int(first_multiple_input[1])\n",
        "\n",
        "matrix = []\n",
        "\n",
        "for _ in range(n):\n",
        "    matrix_item = input()\n",
        "    matrix.append(matrix_item)\n",
        "\n",
        "matrix_script = zip(*matrix)\n",
        "matrix_script = \"\".join([\"\".join(i) for i in matrix_script])\n",
        "\n",
        "matrix_script = re.sub(r'(\\w)[^\\w]+(\\w)', r'\\1 \\2', matrix_script)\n",
        "print(matrix_script)"
      ],
      "execution_count": 3,
      "outputs": [
        {
          "output_type": "stream",
          "text": [
            "7 3\n",
            "Tsi\n",
            "h%x\n",
            "i #\n",
            "sM \n",
            "$a  \n",
            "#t%\n",
            "ir!\n",
            "This is Matrix#  %!\n"
          ],
          "name": "stdout"
        }
      ]
    }
  ]
}