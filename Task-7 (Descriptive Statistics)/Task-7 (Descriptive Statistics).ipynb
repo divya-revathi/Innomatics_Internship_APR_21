{
 "cells": [
  {
   "cell_type": "markdown",
   "metadata": {},
   "source": [
    "# Descriptive Statistics and Python Implementation\n",
    "\n",
    "In this assignment we are going to study about descriptive statistics methods and also we are going to implement the methods using python(with and without library functions)\n",
    "\n",
    "Topics to be covered are as below\n",
    "1. Mean\n",
    "2. Median\n",
    "3. Mode\n",
    "4. Variance\n",
    "5. Standard Deviation\n",
    "6. Correlation\n",
    "7. Normal Distribution\n",
    "8. Feature of Normal Distribution\n",
    "9. Positively Skewed & Negatively Skewed Normal Distribution\n",
    "10. Effect on Mean, Median and Mode due to Skewness\n",
    "11. Explain QQ Plot and show the implementation of the same\n",
    "12. Explain Box Cox and show the implementation of the same\n",
    "\n",
    "In statistics, the data are often stored in a tabular format (like a spreadsheet) in a CSV file.\n",
    "\n",
    "For better understanding let’s get started by visualizing the data in our CSV file using PANDAS library."
   ]
  },
  {
   "cell_type": "code",
   "execution_count": 46,
   "metadata": {
    "scrolled": false
   },
   "outputs": [
    {
     "data": {
      "text/html": [
       "<div>\n",
       "<style scoped>\n",
       "    .dataframe tbody tr th:only-of-type {\n",
       "        vertical-align: middle;\n",
       "    }\n",
       "\n",
       "    .dataframe tbody tr th {\n",
       "        vertical-align: top;\n",
       "    }\n",
       "\n",
       "    .dataframe thead th {\n",
       "        text-align: right;\n",
       "    }\n",
       "</style>\n",
       "<table border=\"1\" class=\"dataframe\">\n",
       "  <thead>\n",
       "    <tr style=\"text-align: right;\">\n",
       "      <th></th>\n",
       "      <th>Mthly_HH_Income</th>\n",
       "      <th>Mthly_HH_Expense</th>\n",
       "      <th>No_of_Fly_Members</th>\n",
       "      <th>Emi_or_Rent_Amt</th>\n",
       "      <th>Annual_HH_Income</th>\n",
       "      <th>Highest_Qualified_Member</th>\n",
       "      <th>No_of_Earning_Members</th>\n",
       "    </tr>\n",
       "  </thead>\n",
       "  <tbody>\n",
       "    <tr>\n",
       "      <th>0</th>\n",
       "      <td>5000</td>\n",
       "      <td>8000</td>\n",
       "      <td>3</td>\n",
       "      <td>2000</td>\n",
       "      <td>64200</td>\n",
       "      <td>Under-Graduate</td>\n",
       "      <td>1</td>\n",
       "    </tr>\n",
       "    <tr>\n",
       "      <th>1</th>\n",
       "      <td>6000</td>\n",
       "      <td>7000</td>\n",
       "      <td>2</td>\n",
       "      <td>3000</td>\n",
       "      <td>79920</td>\n",
       "      <td>Illiterate</td>\n",
       "      <td>1</td>\n",
       "    </tr>\n",
       "    <tr>\n",
       "      <th>2</th>\n",
       "      <td>10000</td>\n",
       "      <td>4500</td>\n",
       "      <td>2</td>\n",
       "      <td>0</td>\n",
       "      <td>112800</td>\n",
       "      <td>Under-Graduate</td>\n",
       "      <td>1</td>\n",
       "    </tr>\n",
       "    <tr>\n",
       "      <th>3</th>\n",
       "      <td>10000</td>\n",
       "      <td>2000</td>\n",
       "      <td>1</td>\n",
       "      <td>0</td>\n",
       "      <td>97200</td>\n",
       "      <td>Illiterate</td>\n",
       "      <td>1</td>\n",
       "    </tr>\n",
       "    <tr>\n",
       "      <th>4</th>\n",
       "      <td>12500</td>\n",
       "      <td>12000</td>\n",
       "      <td>2</td>\n",
       "      <td>3000</td>\n",
       "      <td>147000</td>\n",
       "      <td>Graduate</td>\n",
       "      <td>1</td>\n",
       "    </tr>\n",
       "  </tbody>\n",
       "</table>\n",
       "</div>"
      ],
      "text/plain": [
       "   Mthly_HH_Income  Mthly_HH_Expense  No_of_Fly_Members  Emi_or_Rent_Amt  \\\n",
       "0             5000              8000                  3             2000   \n",
       "1             6000              7000                  2             3000   \n",
       "2            10000              4500                  2                0   \n",
       "3            10000              2000                  1                0   \n",
       "4            12500             12000                  2             3000   \n",
       "\n",
       "   Annual_HH_Income Highest_Qualified_Member  No_of_Earning_Members  \n",
       "0             64200           Under-Graduate                      1  \n",
       "1             79920               Illiterate                      1  \n",
       "2            112800           Under-Graduate                      1  \n",
       "3             97200               Illiterate                      1  \n",
       "4            147000                 Graduate                      1  "
      ]
     },
     "execution_count": 46,
     "metadata": {},
     "output_type": "execute_result"
    }
   ],
   "source": [
    "import numpy as np\n",
    "import matplotlib.pyplot as plt\n",
    "import seaborn as sns\n",
    "import pandas as pd\n",
    "from scipy import stats\n",
    "\n",
    "my_dataset=pd.read_csv(r'C:\\Users\\dell\\Desktop\\Innomatics\\data.csv')\n",
    "my_dataset.head()"
   ]
  },
  {
   "cell_type": "markdown",
   "metadata": {},
   "source": [
    "Use read_csv method to read the raw data in the CSV file into a data frame, my_dataset . The data frame is a two-dimensional array-like data structure for statistical and machine learning models.\n",
    "\n",
    "Use head() method of the data frame to show the first five rows of the data."
   ]
  },
  {
   "cell_type": "markdown",
   "metadata": {},
   "source": [
    "# MEAN\n",
    "\n",
    "##### Mean is an average of all the numbers.\n",
    "\n",
    "The steps required to calculate a mean are:\n",
    "sum up all the values of a target variable in the dataset and then divide the sum by the number of values\n",
    "\n",
    "For example, if we have a set of five values, [70, 60, 85, 80, 92]\n",
    "\n",
    "            here, Mean=(70+60+85+80+92)/5= 77.4\n",
    "            \n",
    " $$\\mu=\\Sigma{(values)}/n$$\n",
    "\n",
    "Now let us implement this with and without python libraries"
   ]
  },
  {
   "cell_type": "code",
   "execution_count": 47,
   "metadata": {},
   "outputs": [
    {
     "name": "stdout",
     "output_type": "stream",
     "text": [
      "Mthly_HH_Income           41558.00\n",
      "Mthly_HH_Expense          18818.00\n",
      "No_of_Fly_Members             4.06\n",
      "Emi_or_Rent_Amt            3060.00\n",
      "Annual_HH_Income         490019.04\n",
      "No_of_Earning_Members         1.46\n",
      "dtype: float64\n"
     ]
    }
   ],
   "source": [
    "#with library function\n",
    "mean_with_libfunc=my_dataset.mean()\n",
    "print(mean_with_libfunc)"
   ]
  },
  {
   "cell_type": "code",
   "execution_count": 48,
   "metadata": {},
   "outputs": [
    {
     "name": "stdout",
     "output_type": "stream",
     "text": [
      "41558.0\n"
     ]
    }
   ],
   "source": [
    "#with library function for specific coloumn\n",
    "average_with_libfunc=my_dataset['Mthly_HH_Income'].mean()\n",
    "print(average_with_libfunc)"
   ]
  },
  {
   "cell_type": "code",
   "execution_count": 49,
   "metadata": {},
   "outputs": [
    {
     "name": "stdout",
     "output_type": "stream",
     "text": [
      "41558.0\n"
     ]
    }
   ],
   "source": [
    "#without library function\n",
    "number_of_values=len(my_dataset['Mthly_HH_Income'])\n",
    "sum_of_data=sum(my_dataset['Mthly_HH_Income'])\n",
    "mean_without_libfunc=sum_of_data/number_of_values\n",
    "print(mean_without_libfunc)"
   ]
  },
  {
   "cell_type": "markdown",
   "metadata": {},
   "source": [
    "# MEDIAN\n",
    "\n",
    "Median is the middle value of a sorted list of numbers. \n",
    "The steps required to get a median from a list of numbers are:\n",
    "\n",
    "sort the numbers from smallest to highest\n",
    "\n",
    "if the list has an odd number of values, \n",
    "the value in the middle position is the median\n",
    "\n",
    "$$median=\\frac{(\\frac{n}{2})^{th}term+(\\frac{n}{2}+1)^{th}term}{2} $$\n",
    "\n",
    "if the list has an even number of values, \n",
    "the average of the two values in the middle will be the median\n",
    "\n",
    "$$median=\\frac{n+1}{2}^{th}term $$"
   ]
  },
  {
   "cell_type": "code",
   "execution_count": 50,
   "metadata": {},
   "outputs": [
    {
     "name": "stdout",
     "output_type": "stream",
     "text": [
      "Mthly_HH_Income           35000.0\n",
      "Mthly_HH_Expense          15500.0\n",
      "No_of_Fly_Members             4.0\n",
      "Emi_or_Rent_Amt               0.0\n",
      "Annual_HH_Income         447420.0\n",
      "No_of_Earning_Members         1.0\n",
      "dtype: float64\n"
     ]
    }
   ],
   "source": [
    "#with library function median()\n",
    "med_with_libfunc=my_dataset.median()\n",
    "print(med_with_libfunc)"
   ]
  },
  {
   "cell_type": "code",
   "execution_count": 51,
   "metadata": {},
   "outputs": [
    {
     "name": "stdout",
     "output_type": "stream",
     "text": [
      "35000.0\n"
     ]
    }
   ],
   "source": [
    "#with library function median() for specific coloumn\n",
    "med_with_libfunc=my_dataset['Mthly_HH_Income'].median()\n",
    "print(med_with_libfunc)"
   ]
  },
  {
   "cell_type": "code",
   "execution_count": 52,
   "metadata": {},
   "outputs": [
    {
     "name": "stdout",
     "output_type": "stream",
     "text": [
      "35000.0\n"
     ]
    }
   ],
   "source": [
    "#without library function\n",
    "sorted_data=sorted(my_dataset['Mthly_HH_Income'])\n",
    "size_of_data=len(sorted_data)\n",
    "if(size_of_data%2==0):\n",
    "    even_n_term=int(size_of_data/2)\n",
    "    even_n1_term=int((size_of_data/2))-1\n",
    "    median_data=(sorted_data[even_n_term]+sorted_data[even_n1_term])/2\n",
    "else:\n",
    "    odd_n_term=int((size_of_data+1)/2)\n",
    "    median_data=sorted_data[odd_n_term]\n",
    "print(median_data)"
   ]
  },
  {
   "cell_type": "markdown",
   "metadata": {},
   "source": [
    "# MODE\n",
    "\n",
    "The mode is the value that appears most frequently in a data set.\n",
    "\n",
    "It is a measure of central tendency.\n",
    "\n",
    "A set of data may have one mode, more than one mode, or no mode at all."
   ]
  },
  {
   "cell_type": "code",
   "execution_count": 53,
   "metadata": {},
   "outputs": [
    {
     "name": "stdout",
     "output_type": "stream",
     "text": [
      "   Mthly_HH_Income  Mthly_HH_Expense  No_of_Fly_Members  Emi_or_Rent_Amt  \\\n",
      "0            45000             25000                  4                0   \n",
      "\n",
      "   Annual_HH_Income Highest_Qualified_Member  No_of_Earning_Members  \n",
      "0            590400                 Graduate                      1  \n"
     ]
    }
   ],
   "source": [
    "#with library function\n",
    "mod_with_libfunc=my_dataset.mode()\n",
    "print(mod_with_libfunc)"
   ]
  },
  {
   "cell_type": "code",
   "execution_count": 54,
   "metadata": {},
   "outputs": [
    {
     "name": "stdout",
     "output_type": "stream",
     "text": [
      "0    45000\n",
      "dtype: int64\n"
     ]
    }
   ],
   "source": [
    "#with library function on a selected coloumn\n",
    "mod_with_libfunc=my_dataset['Mthly_HH_Income'].mode()\n",
    "print(mod_with_libfunc)"
   ]
  },
  {
   "cell_type": "code",
   "execution_count": 55,
   "metadata": {},
   "outputs": [
    {
     "data": {
      "text/plain": [
       "45000"
      ]
     },
     "execution_count": 55,
     "metadata": {},
     "output_type": "execute_result"
    }
   ],
   "source": [
    "#without library function\n",
    "#creating user defined mode function\n",
    "def my_mode(data):\n",
    "    n=0\n",
    "    my_values={}\n",
    "    for i in sorted(data):\n",
    "        my_values.setdefault(i,0)\n",
    "        my_values[i]+=1\n",
    "    for i,j in my_values.items():\n",
    "        if j==max(my_values.values()):\n",
    "            freq_values=i\n",
    "    return freq_values\n",
    "\n",
    "#Calling the defined function\n",
    "my_mode(my_dataset['Mthly_HH_Income'])"
   ]
  },
  {
   "cell_type": "markdown",
   "metadata": {},
   "source": [
    "# VARIANCE\n",
    "\n",
    "The term variance refers to a statistical measurement of the spread between numbers in a data set.\n",
    "In statistics, variance measures variability from the average or mean. \n",
    "It is calculated by taking the \n",
    "1. differences between each number in the data set and \n",
    "2. the mean, \n",
    "3. then squaring the differences to make them positive, and finally \n",
    "4. dividing the sum of the squares by the number of values in the data set.\n",
    "\n",
    "$$\\sigma^{2}=\\frac{1}{n}\\sum_{i=1}^{n}(x_i-\\mu_x)^{2} $$\n"
   ]
  },
  {
   "cell_type": "code",
   "execution_count": 56,
   "metadata": {},
   "outputs": [
    {
     "name": "stdout",
     "output_type": "stream",
     "text": [
      "Mthly_HH_Income          6.674788e+08\n",
      "Mthly_HH_Expense         1.432499e+08\n",
      "No_of_Fly_Members        2.256400e+00\n",
      "Emi_or_Rent_Amt          3.817640e+07\n",
      "Annual_HH_Income         1.004372e+11\n",
      "No_of_Earning_Members    5.284000e-01\n",
      "dtype: float64\n"
     ]
    }
   ],
   "source": [
    "#with library function\n",
    "var_with_libfunc=np.var(my_dataset)\n",
    "print(var_with_libfunc)"
   ]
  },
  {
   "cell_type": "code",
   "execution_count": 57,
   "metadata": {},
   "outputs": [
    {
     "name": "stdout",
     "output_type": "stream",
     "text": [
      "667478836.0\n"
     ]
    }
   ],
   "source": [
    "#with library function on selected coloumn\n",
    "var_with_libfunc=np.var(my_dataset['Mthly_HH_Income'])\n",
    "print(var_with_libfunc)"
   ]
  },
  {
   "cell_type": "code",
   "execution_count": 58,
   "metadata": {},
   "outputs": [
    {
     "name": "stdout",
     "output_type": "stream",
     "text": [
      "667478836.0\n"
     ]
    }
   ],
   "source": [
    "#without library function\n",
    "length=len(my_dataset['Mthly_HH_Income'])\n",
    "sum_of_data=sum(my_dataset['Mthly_HH_Income'])\n",
    "mean=sum_of_data/length\n",
    "sum_var=0\n",
    "for i in my_dataset['Mthly_HH_Income']:\n",
    "    sum_square=(i-mean)**2\n",
    "    sum_var+=sum_square\n",
    "my_variance=sum_var/length\n",
    "print(my_variance)"
   ]
  },
  {
   "cell_type": "markdown",
   "metadata": {},
   "source": [
    "# STANDARD DEVIATION\n",
    "\n",
    "The standard deviation (SD) is just a measurement to tell how a set of values spread out from their mean. \n",
    "A low SD shows that the values are close to the mean and a high SD shows a high diversion from the mean.\n",
    "\n",
    "The steps to calculate SD are as follows:\n",
    "1. Calculate the mean of a dataset\n",
    "2. For each number in the dataset, subtract it with the mean\n",
    "3. Square the difference obtained from Step 2\n",
    "4. Sum up the results from Step 3\n",
    "5. Divide the summation from Step 4 by the number of values in the dataset minus one\n",
    "6. Square root the result from Step 5\n",
    "\n",
    "$$\\sigma=\\sqrt{\\frac{1}{n}\\sum{i=1}^{n}(x{i}-\\mu_{x})^{2}} $$\n"
   ]
  },
  {
   "cell_type": "code",
   "execution_count": 59,
   "metadata": {},
   "outputs": [
    {
     "name": "stdout",
     "output_type": "stream",
     "text": [
      "Mthly_HH_Income           25835.611779\n",
      "Mthly_HH_Expense          11968.704023\n",
      "No_of_Fly_Members             1.502132\n",
      "Emi_or_Rent_Amt            6178.705366\n",
      "Annual_HH_Income         316918.265315\n",
      "No_of_Earning_Members         0.726911\n",
      "dtype: float64\n"
     ]
    }
   ],
   "source": [
    "#with library function\n",
    "std_with_libfunc=np.std(my_dataset)\n",
    "print(std_with_libfunc)"
   ]
  },
  {
   "cell_type": "code",
   "execution_count": 60,
   "metadata": {},
   "outputs": [
    {
     "name": "stdout",
     "output_type": "stream",
     "text": [
      "25835.611779092826\n"
     ]
    }
   ],
   "source": [
    "#with library function on selected coloumn\n",
    "std_with_libfunc=np.std(my_dataset['Mthly_HH_Income'])\n",
    "print(std_with_libfunc)"
   ]
  },
  {
   "cell_type": "code",
   "execution_count": 61,
   "metadata": {},
   "outputs": [
    {
     "name": "stdout",
     "output_type": "stream",
     "text": [
      "25835.611779092826\n"
     ]
    }
   ],
   "source": [
    "#without library function\n",
    "length=len(my_dataset['Mthly_HH_Income'])\n",
    "sum_of_data=sum(my_dataset['Mthly_HH_Income'])\n",
    "mean=sum_of_data/length\n",
    "sum_var=0\n",
    "for i in my_dataset['Mthly_HH_Income']:\n",
    "    sum_square=(i-mean)**2\n",
    "    sum_var+=sum_square\n",
    "print((sum_var/length)**0.5)"
   ]
  },
  {
   "cell_type": "markdown",
   "metadata": {},
   "source": [
    "# CORRELATION\n",
    "\n",
    "Correlation is a statistic that measures the degree to which two variables move in relation to each other.\n",
    "\n",
    "The number varies from -1 to 1.\n",
    "\n",
    "$$\\rho{x,y}=\\frac{cov(x,y)}{\\sigma_{x}*\\sigma_{y}} $$ \n",
    "\n",
    "Here, cov (x,y) is covariance of x and,y\n",
    "\n",
    "$\\sigma_{x}$ is standard deviation of x and $\\sigma_{y}$ is standard deviation of y."
   ]
  },
  {
   "cell_type": "code",
   "execution_count": 62,
   "metadata": {},
   "outputs": [
    {
     "name": "stdout",
     "output_type": "stream",
     "text": [
      "                       Mthly_HH_Income  Mthly_HH_Expense  No_of_Fly_Members  \\\n",
      "Mthly_HH_Income               1.000000          0.649215           0.448317   \n",
      "Mthly_HH_Expense              0.649215          1.000000           0.639702   \n",
      "No_of_Fly_Members             0.448317          0.639702           1.000000   \n",
      "Emi_or_Rent_Amt               0.036976          0.405280           0.085808   \n",
      "Annual_HH_Income              0.970315          0.591222           0.430868   \n",
      "No_of_Earning_Members         0.347883          0.311915           0.597482   \n",
      "\n",
      "                       Emi_or_Rent_Amt  Annual_HH_Income  \\\n",
      "Mthly_HH_Income               0.036976          0.970315   \n",
      "Mthly_HH_Expense              0.405280          0.591222   \n",
      "No_of_Fly_Members             0.085808          0.430868   \n",
      "Emi_or_Rent_Amt               1.000000          0.002716   \n",
      "Annual_HH_Income              0.002716          1.000000   \n",
      "No_of_Earning_Members        -0.097431          0.296679   \n",
      "\n",
      "                       No_of_Earning_Members  \n",
      "Mthly_HH_Income                     0.347883  \n",
      "Mthly_HH_Expense                    0.311915  \n",
      "No_of_Fly_Members                   0.597482  \n",
      "Emi_or_Rent_Amt                    -0.097431  \n",
      "Annual_HH_Income                    0.296679  \n",
      "No_of_Earning_Members               1.000000  \n"
     ]
    }
   ],
   "source": [
    "#with library function\n",
    "corr_with_libfunc=my_dataset.corr()\n",
    "print(corr_with_libfunc)"
   ]
  },
  {
   "cell_type": "code",
   "execution_count": 63,
   "metadata": {},
   "outputs": [
    {
     "name": "stdout",
     "output_type": "stream",
     "text": [
      "0.9703154166603712\n"
     ]
    }
   ],
   "source": [
    "#without library function\n",
    "coloumn_x=my_dataset['Mthly_HH_Income']\n",
    "coloumn_y=my_dataset['Annual_HH_Income']\n",
    "cov=np.cov(coloumn_x,coloumn_y)[0,1]\n",
    "std_x=coloumn_x.std() \n",
    "std_y=coloumn_y.std() \n",
    "correlation_data=(cov/(std_x*std_y))\n",
    "print(correlation_data)"
   ]
  },
  {
   "attachments": {
    "image.png": {
     "image/png": "[encoded data removed]"
    }
   },
   "cell_type": "markdown",
   "metadata": {},
   "source": [
    "# NORMAL DISTRIBUTION\n",
    "\n",
    "The normal distribution is a form presenting data by arranging the probability distribution of each value in the data.\n",
    "\n",
    "A normal distribution, sometimes called the bell curve(shown as below), is a distribution that occurs naturally in many situations\n",
    "\n",
    "![image.png](attachment:image.png)\n",
    "\n",
    "Most values remain around the mean value making the arrangement symmetric.\n",
    "\n",
    "The standard deviation controls the spread of the distribution. \n",
    "1. A smaller standard deviation indicates that the data is tightly clustered around the mean; the normal distribution will be taller. \n",
    "2. A larger standard deviation indicates that the data is spread out around the mean; the normal distribution will be flatter and wider.\n",
    "\n",
    "#### Properties of a normal distribution\n",
    "1. The mean, mode and median are all equal.\n",
    "2. The curve is symmetric at the center (i.e. around the mean, μ).\n",
    "3. Exactly half of the values are to the left of center and exactly half the values are to the right.\n",
    "4. The total area under the curve is 1.\n",
    "\n",
    "#### Function of normal distribution is shown as below\n",
    "\n",
    "$$f(x,\\mu,\\sigma)=\\frac{1}{\\sigma\\sqrt{2\\pi}}e^{\\frac{-(x-\\mu)^{2}}{2\\sigma^{2}}} $$\n"
   ]
  },
  {
   "attachments": {},
   "cell_type": "markdown",
   "metadata": {},
   "source": [
    "# Feature of Normal Distribution\n",
    "\n",
    "For a normally distributed variable in a population the mean is the best measure of central tendency, and the standard deviation(s) provides a measure of variability.\n",
    "\n",
    "We can use the mean and standard deviation to get a handle on probability. It turns out that, as demonstrated in the figure below,\n",
    "\n",
    "Approximately 68% of values in the distribution are within 1 SD of the mean, i.e., above or below.\n",
    "P (µ - σ < X < µ + σ) = 0.68\n",
    "\n",
    "Approximately 95% of values in the distribution are within 2 SD of the mean.\n",
    "P (µ - 2σ < X < µ + 2σ) = 0.95\n",
    "\n",
    "Approximately 99% of values in the distribution are within 3 SD of the mean.\n",
    "P (µ - 3σ < X < µ + 3σ) = 0.99\n"
   ]
  },
  {
   "attachments": {},
   "cell_type": "markdown",
   "metadata": {},
   "source": [
    "# Positively Skewed and Negatively Skewed Normal Distribution\n",
    "\n",
    "###### Skewness\n",
    "\n",
    "Skewness refers to a distortion or asymmetry that deviates from the symmetrical bell curve, or normal distribution, in a set of data. \n",
    "\n",
    "If the curve is shifted to the left or to the right, it is said to be skewed. \n",
    "\n",
    "Skewness can be quantified as a representation of the extent to which a given distribution varies from a normal distribution. \n",
    "\n",
    "A normal distribution has a skew of zero, while a lognormal distribution, for example, would exhibit some degree of right-skew.\n",
    "\n",
    "The mean of positively skewed data will be greater than the median. In a distribution that is negatively skewed, the exact opposite is the case: the mean of negatively skewed data will be less than the median.\n",
    "\n",
    "#### A Positive-Skewed distribution also known as right-skewed distribution as it's long tails lies in the right side of the distribution.\n",
    "1. It has a long right tail.\n",
    "2. The mean is also on the right side of the peak.\n",
    "\n",
    "#### A Negatively-Skewed distribution also known as left-skewed distribution as it's long tail lies in the left side of the distribution.\n",
    "1. It has a long left tail.\n",
    "2. The mean is on the left side of the peak.\n"
   ]
  },
  {
   "attachments": {},
   "cell_type": "markdown",
   "metadata": {},
   "source": [
    "# Effect on Mean, Median and Mode due to Skewness\n",
    "\n",
    "Briefly,\n",
    "\n",
    "If the distribution of data is skewed to the left(negatively skewed), then the mean is less than the median, which is often less than the mode. \n",
    "\n",
    " #### i.e, mean < median < mode\n",
    "\n",
    "If the distribution of data is skewed to the right(positively skewed), then the mode is often less than the median, which is less than the mean.\n",
    "\n",
    " #### i.e, mode < median < mean\n"
   ]
  },
  {
   "attachments": {},
   "cell_type": "markdown",
   "metadata": {},
   "source": [
    "# QQ Plot and its implementation\n",
    "\n",
    "A Q-Q plot is a scatterplot created by plotting two sets of quantiles against one another. If both sets of quantiles came from the same distribution, we should see the points forming a line that's roughly straight.\n",
    "A 45-degree reference line is also plotted. If the two sets come from a population with the same distribution, the points should fall approximately along this reference line.\n",
    "\n",
    "\n",
    "###### Now lets implement the qq plot to our given data frame"
   ]
  },
  {
   "cell_type": "code",
   "execution_count": 64,
   "metadata": {},
   "outputs": [
    {
     "data": {
      "image/png": "[encoded data removed]",
      "text/plain": [
       "<Figure size 432x288 with 1 Axes>"
      ]
     },
     "metadata": {
      "needs_background": "light"
     },
     "output_type": "display_data"
    }
   ],
   "source": [
    "stats.probplot(my_dataset['Mthly_HH_Income'], dist=\"norm\",plot=plt)\n",
    "plt.grid()"
   ]
  },
  {
   "attachments": {},
   "cell_type": "markdown",
   "metadata": {},
   "source": [
    "# BOX_COX transformation and its implementation\n",
    "\n",
    "A Box Cox transformation is a transformation of a non-normal dependent variables into a normal shape. \n",
    "\n",
    "It transforms our data so that it closely as it resembles a normal distribution.\n",
    "\n",
    "\n",
    "###### Now lets implement it on our dataframe\n",
    "\n",
    "###### in the above example of q-q plot we have checked the normality of Mthly_HH_Income and now lets transform it more normal using box cox transformation and then we will check its normality"
   ]
  },
  {
   "cell_type": "code",
   "execution_count": 65,
   "metadata": {},
   "outputs": [],
   "source": [
    "x_t_income,l_income=stats.boxcox(my_dataset['Mthly_HH_Income']) #BOX-COX Transformation implemented"
   ]
  },
  {
   "cell_type": "code",
   "execution_count": 66,
   "metadata": {},
   "outputs": [
    {
     "data": {
      "image/png": "[encoded data removed]",
      "text/plain": [
       "<Figure size 432x288 with 1 Axes>"
      ]
     },
     "metadata": {
      "needs_background": "light"
     },
     "output_type": "display_data"
    }
   ],
   "source": [
    "stats.probplot(x_t_income,dist='norm',plot=plt)\n",
    "plt.grid()"
   ]
  },
  {
   "cell_type": "markdown",
   "metadata": {},
   "source": [
    "###### After plotting, its is clearly shown there are more points along the 45-degree line than before the transformation. Therefore, by using box-cox transformation we can change the normality of the distribution and reduce the skewness."
   ]
  },
  {
   "cell_type": "code",
   "execution_count": null,
   "metadata": {},
   "outputs": [],
   "source": []
  }
 ],
 "metadata": {
  "kernelspec": {
   "display_name": "Python 3",
   "language": "python",
   "name": "python3"
  },
  "language_info": {
   "codemirror_mode": {
    "name": "ipython",
    "version": 3
   },
   "file_extension": ".py",
   "mimetype": "text/x-python",
   "name": "python",
   "nbconvert_exporter": "python",
   "pygments_lexer": "ipython3",
   "version": "3.8.5"
  }
 },
 "nbformat": 4,
 "nbformat_minor": 4
}
