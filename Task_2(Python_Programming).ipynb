{
  "nbformat": 4,
  "nbformat_minor": 0,
  "metadata": {
    "colab": {
      "name": "Task-2(Python Programming).ipynb",
      "provenance": [],
      "collapsed_sections": [],
      "authorship_tag": "ABX9TyMRsb5inHlwWd2J5dLn5PSt",
      "include_colab_link": true
    },
    "kernelspec": {
      "name": "python3",
      "display_name": "Python 3"
    },
    "language_info": {
      "name": "python"
    }
  },
  "cells": [
    {
      "cell_type": "markdown",
      "metadata": {
        "id": "view-in-github",
        "colab_type": "text"
      },
      "source": [
        "<a href=\"https://colab.research.google.com/github/divya-revathi/Innomatics_Internship_APR_21/blob/main/Task_2(Python_Programming).ipynb\" target=\"_parent\"><img src=\"https://colab.research.google.com/assets/colab-badge.svg\" alt=\"Open In Colab\"/></a>"
      ]
    },
    {
      "cell_type": "code",
      "metadata": {
        "colab": {
          "base_uri": "https://localhost:8080/"
        },
        "id": "2kRm_dPh8MEw",
        "outputId": "11721bde-4d5f-46dc-947a-e89d5a7323e3"
      },
      "source": [
        "#Ques-1 Four integers x,y and z, n each on a separate line. Print the list in lexicographic increasing order\n",
        "x = int(input())\n",
        "y = int(input())\n",
        "z = int(input())\n",
        "n = int(input())\n",
        "perm=[]\n",
        "for i in range(x+1):\n",
        "    for j in range(y+1):\n",
        "        for k in range(z+1):\n",
        "             if i+j+k != n:\n",
        "                perm.append([i,j,k])\n",
        "\n",
        "print(perm)\n",
        "             "
      ],
      "execution_count": null,
      "outputs": [
        {
          "output_type": "stream",
          "text": [
            "1\n",
            "1\n",
            "2\n",
            "3\n",
            "[[0, 0, 0], [0, 0, 1], [0, 0, 2], [0, 1, 0], [0, 1, 1], [1, 0, 0], [1, 0, 1], [1, 1, 0], [1, 1, 2]]\n"
          ],
          "name": "stdout"
        }
      ]
    },
    {
      "cell_type": "code",
      "metadata": {
        "colab": {
          "base_uri": "https://localhost:8080/"
        },
        "id": "5heyFNBF9Jto",
        "outputId": "f7b880c6-a8da-43e1-de24-7ae00e53d033"
      },
      "source": [
        "#Ques-2 You are given n scores. Store them in a list and find the score of the runner-up.\n",
        "\n",
        "if __name__ == '__main__':\n",
        "    n = int(input())\n",
        "    arr = map(int, input().split())\n",
        "    arr=list(arr)\n",
        "    mx=arr[0]\n",
        "    smx=arr[0]\n",
        "    for i in arr:\n",
        "        if(i>mx):\n",
        "            mx=i\n",
        "        if(i<smx):\n",
        "            smx=i\n",
        "   \n",
        "mx2=smx\n",
        "for i in arr:\n",
        "    if(i>mx2 and i<mx):\n",
        "        mx2=i\n",
        "            \n",
        "print(mx2)"
      ],
      "execution_count": null,
      "outputs": [
        {
          "output_type": "stream",
          "text": [
            "3\n",
            "1 2 3\n",
            "2\n"
          ],
          "name": "stdout"
        }
      ]
    },
    {
      "cell_type": "code",
      "metadata": {
        "colab": {
          "base_uri": "https://localhost:8080/"
        },
        "id": "AAJoYGpnJx7d",
        "outputId": "f043809c-0547-44c9-cb73-49d028641955"
      },
      "source": [
        "#Ques-3 Given the names and grades for each student in a class of N students, store them in a nested list and print the name(s) of any student(s) having the second lowest grade.\n",
        "\n",
        "n=int(input())\n",
        "records=[]\n",
        "for i in range(0,n):\n",
        "    records.append([input(),float(input())])\n",
        "records=sorted(records, key=lambda i:i[1])\n",
        "for i in range(1,n):\n",
        "    if(records[i][1]!=records[i-1][1]):\n",
        "        score=records[i][1]\n",
        "        break\n",
        "records=sorted(records)\n",
        "for i in range(n):\n",
        "    if(records[i][1]==score):\n",
        "        print(records[i][0])"
      ],
      "execution_count": null,
      "outputs": [
        {
          "output_type": "stream",
          "text": [
            "4\n",
            "adam\n",
            "10\n",
            "beny\n",
            "20\n",
            "cherry\n",
            "10\n",
            "sunny\n",
            "40\n",
            "beny\n"
          ],
          "name": "stdout"
        }
      ]
    },
    {
      "cell_type": "code",
      "metadata": {
        "colab": {
          "base_uri": "https://localhost:8080/"
        },
        "id": "Cgui7JInQD0a",
        "outputId": "b2844c59-0301-412b-d661-92146fd192f9"
      },
      "source": [
        "#Ques-4 Print the average of the marks array for the student name provided, showing 2 places after the decimal.\n",
        "\n",
        "student_records={}\n",
        "\n",
        "for i in range(int(input())):\n",
        "    student_name,sub1,sub2,sub3=input().split()\n",
        "    student_records[student_name]=[float(sub1),float(sub2),float(sub3)]\n",
        "query_name=input()\n",
        "l=sum(student_records[query_name])\n",
        "percentge=float(l/3)\n",
        "print(\"%.2f\" %percentge)  "
      ],
      "execution_count": null,
      "outputs": [
        {
          "output_type": "stream",
          "text": [
            "2\n",
            "adam 2 3 4\n",
            "ban 1 2 3\n",
            "ban\n",
            "2.00\n"
          ],
          "name": "stdout"
        }
      ]
    },
    {
      "cell_type": "code",
      "metadata": {
        "colab": {
          "base_uri": "https://localhost:8080/"
        },
        "id": "K1WeGL0QVmjN",
        "outputId": "12c72688-d17a-4d2c-d4a5-bcc9cf18bd49"
      },
      "source": [
        "#Ques-5 Perform list commands\n",
        "\n",
        "mylist = []\n",
        "N = int(input())\n",
        "for i in range(N):\n",
        "    command = input().split()\n",
        "    if command[0]==\"sort\":\n",
        "        mylist.sort()\n",
        "    elif command[0]==\"print\":\n",
        "        print(mylist)\n",
        "    elif command[0]==\"reverse\":\n",
        "        mylist.reverse()\n",
        "    elif command[0]==\"pop\":\n",
        "        mylist.pop()\n",
        "    elif command[0]==\"insert\":\n",
        "        mylist.insert(int(command[1]),int(command[2]))\n",
        "    elif command[0]==\"append\":\n",
        "        mylist.append(int(command[1]))\n",
        "    elif command[0]==\"remove\":\n",
        "        mylist.remove(int(command[1]))"
      ],
      "execution_count": null,
      "outputs": [
        {
          "output_type": "stream",
          "text": [
            "7\n",
            "insert 0 2\n",
            "insert 1 3\n",
            "insert 1 4\n",
            "insert 0 5\n",
            "pop\n",
            "reverse\n",
            "print\n",
            "[4, 2, 5]\n"
          ],
          "name": "stdout"
        }
      ]
    },
    {
      "cell_type": "code",
      "metadata": {
        "colab": {
          "base_uri": "https://localhost:8080/"
        },
        "id": "mGC0Kn2ffm1D",
        "outputId": "fa5ca194-55f9-4282-9866-fb471c2bc7c0"
      },
      "source": [
        "#Ques-6 Print the result of hash(tuple).\n",
        "\n",
        "N = int(input())\n",
        "print(hash(tuple(int(x) for x in input().split())))"
      ],
      "execution_count": null,
      "outputs": [
        {
          "output_type": "stream",
          "text": [
            "1\n",
            "1 2\n",
            "3713081631934410656\n"
          ],
          "name": "stdout"
        }
      ]
    },
    {
      "cell_type": "code",
      "metadata": {
        "colab": {
          "base_uri": "https://localhost:8080/"
        },
        "id": "O-7StbWjhNHi",
        "outputId": "ffed8acb-3f7e-4990-c314-7689ac9a4825"
      },
      "source": [
        "#Ques-7 Set introduction\n",
        "\n",
        "def average(array):\n",
        "    # your code goes here\n",
        "    setarray=set(array)\n",
        "    res=sum(setarray)/len(setarray)\n",
        "    return res\n",
        "\n",
        "if __name__ == '__main__':\n",
        "    n = int(input())\n",
        "    arr = list(map(int, input().split()))\n",
        "    result = average(arr)\n",
        "    print(result)"
      ],
      "execution_count": null,
      "outputs": [
        {
          "output_type": "stream",
          "text": [
            "10\n",
            "1 2 3 3 3 4 5 6 7 8\n",
            "4.5\n"
          ],
          "name": "stdout"
        }
      ]
    },
    {
      "cell_type": "code",
      "metadata": {
        "colab": {
          "base_uri": "https://localhost:8080/"
        },
        "id": "H-f81S2jkb2T",
        "outputId": "c019b2b7-7422-493d-f141-750d199779a1"
      },
      "source": [
        "#Ques-8 Happiness problem, \n",
        "\n",
        "n, m = map(int,input().split())\n",
        "arr = map(int,input().split())\n",
        "a = set(map(int,input().split()))\n",
        "b = set(map(int,input().split()))\n",
        "\n",
        "happiness = 0\n",
        "\n",
        "for i in arr:\n",
        "    if i in a:\n",
        "        happiness += 1\n",
        "        \n",
        "    elif i in b:\n",
        "        happiness -= 1\n",
        "        \n",
        "print(happiness)"
      ],
      "execution_count": null,
      "outputs": [
        {
          "output_type": "stream",
          "text": [
            "3 2\n",
            "1 3 5\n",
            "1 3\n",
            "5 7\n",
            "1\n"
          ],
          "name": "stdout"
        }
      ]
    },
    {
      "cell_type": "code",
      "metadata": {
        "colab": {
          "base_uri": "https://localhost:8080/"
        },
        "id": "6e7eetmPoJLy",
        "outputId": "f5ee853f-2333-415d-aad4-40cf2bfbf712"
      },
      "source": [
        "#Ques-9 Computing Symmetric Difference\n",
        "\n",
        "M=int(input())\n",
        "setA=set(map(int,input().split()))\n",
        "N=int(input())\n",
        "setB=set(map(int,input().split()))\n",
        "newset=(setA.difference(setB)).union(setB.difference(setA))\n",
        "mylist=sorted(list(newset))\n",
        "for x in mylist:\n",
        "    print(x)"
      ],
      "execution_count": null,
      "outputs": [
        {
          "output_type": "stream",
          "text": [
            "4\n",
            "2 4 5 9\n",
            "4\n",
            "2 4 11 12\n",
            "5\n",
            "9\n",
            "11\n",
            "12\n"
          ],
          "name": "stdout"
        }
      ]
    },
    {
      "cell_type": "code",
      "metadata": {
        "colab": {
          "base_uri": "https://localhost:8080/"
        },
        "id": "2u48XQJHxE4j",
        "outputId": "bcc432b0-6742-44a8-a3bd-2a0b23122c37"
      },
      "source": [
        "#Ques-10 Sets .add()\n",
        "\n",
        "n=int(input())\n",
        "stampset=set()\n",
        "for i in range(n):\n",
        "    stampset.add(input())\n",
        "print(len(stampset))"
      ],
      "execution_count": null,
      "outputs": [
        {
          "output_type": "stream",
          "text": [
            "7\n",
            "Uk\n",
            "Canada\n",
            "UK\n",
            "UK\n",
            "UK\n",
            "USA\n",
            "Canada\n",
            "4\n"
          ],
          "name": "stdout"
        }
      ]
    },
    {
      "cell_type": "code",
      "metadata": {
        "colab": {
          "base_uri": "https://localhost:8080/"
        },
        "id": "0xsfyeNO3U7Y",
        "outputId": "67d9beb9-bb98-4f07-db69-17628ed053f2"
      },
      "source": [
        "#Ques-11 Set .discard(), .remove() & .pop()\n",
        "\n",
        "n = int(input())\n",
        "s = set(map(int, input().split()))\n",
        "N=int(input())\n",
        "for i in range(N):\n",
        "    command = input().split()\n",
        "    if command[0]==\"pop\":\n",
        "        s.pop()\n",
        "    elif command[0]==\"discard\":\n",
        "        s.discard(int(command[1]))\n",
        "    elif command[0]==\"remove\":\n",
        "        s.remove(int(command[1]))\n",
        "        \n",
        "print(sum(s))"
      ],
      "execution_count": null,
      "outputs": [
        {
          "output_type": "stream",
          "text": [
            "6\n",
            "1 2 3 4 5 6\n",
            "3\n",
            "pop\n",
            "remove 6\n",
            "pop\n",
            "12\n"
          ],
          "name": "stdout"
        }
      ]
    },
    {
      "cell_type": "code",
      "metadata": {
        "colab": {
          "base_uri": "https://localhost:8080/"
        },
        "id": "7w1phYpx75xT",
        "outputId": "fbf3d8a4-6c1f-4f2e-a7f4-a22ffbe6e6e8"
      },
      "source": [
        "#Ques-12 Union operator\n",
        "\n",
        "i = int(input())\n",
        "engset = set(map(int, input().split()))\n",
        "j=int(input())\n",
        "frenchset=set(map(int, input().split()))    \n",
        "subscribeset=engset.union(frenchset)\n",
        "print(len(subscribeset))"
      ],
      "execution_count": null,
      "outputs": [
        {
          "output_type": "stream",
          "text": [
            "3\n",
            "1 2 3\n",
            "4\n",
            "2 3 5 6\n",
            "5\n"
          ],
          "name": "stdout"
        }
      ]
    },
    {
      "cell_type": "code",
      "metadata": {
        "colab": {
          "base_uri": "https://localhost:8080/"
        },
        "id": "q3uWYt6aAOQY",
        "outputId": "a1ebe94b-c080-49a9-dcb7-b1a42f04cff2"
      },
      "source": [
        "#Ques-13 Intersection operator\n",
        "\n",
        "i = int(input())\n",
        "engset = set(map(int, input().split()))\n",
        "j=int(input())\n",
        "frenchset=set(map(int, input().split()))    \n",
        "subscribeset=engset.intersection(frenchset)\n",
        "print(len(subscribeset))"
      ],
      "execution_count": null,
      "outputs": [
        {
          "output_type": "stream",
          "text": [
            "3\n",
            "1 2 3\n",
            "4 \n",
            "2 3 5 6\n",
            "2\n"
          ],
          "name": "stdout"
        }
      ]
    },
    {
      "cell_type": "code",
      "metadata": {
        "colab": {
          "base_uri": "https://localhost:8080/"
        },
        "id": "HwM5r1bfA_Rl",
        "outputId": "6379b848-8599-4c7c-940c-660963832630"
      },
      "source": [
        "#Ques-14 Difference operator\n",
        "\n",
        "i = int(input())\n",
        "engset = set(map(int, input().split()))\n",
        "j=int(input())\n",
        "frenchset=set(map(int, input().split()))    \n",
        "subscribeset=engset.difference(frenchset)\n",
        "print(len(subscribeset))"
      ],
      "execution_count": null,
      "outputs": [
        {
          "output_type": "stream",
          "text": [
            "3\n",
            "1 2 3\n",
            "4\n",
            "2 3 5 6\n",
            "1\n"
          ],
          "name": "stdout"
        }
      ]
    },
    {
      "cell_type": "code",
      "metadata": {
        "colab": {
          "base_uri": "https://localhost:8080/"
        },
        "id": "I-hsFdX3BfFh",
        "outputId": "626450a3-65f7-4629-bb6e-2f049df2f525"
      },
      "source": [
        "#Ques-15 Symmetric Difference Operator\n",
        "\n",
        "i = int(input())\n",
        "engset = set(map(int, input().split()))\n",
        "j=int(input())\n",
        "frenchset=set(map(int, input().split()))    \n",
        "subscribeset=engset.symmetric_difference(frenchset)\n",
        "print(len(subscribeset))"
      ],
      "execution_count": null,
      "outputs": [
        {
          "output_type": "stream",
          "text": [
            "3\n",
            "1 2 3\n",
            "4\n",
            "2 3 4 5\n",
            "3\n"
          ],
          "name": "stdout"
        }
      ]
    },
    {
      "cell_type": "code",
      "metadata": {
        "id": "U9Eu8z9wJDB2",
        "colab": {
          "base_uri": "https://localhost:8080/"
        },
        "outputId": "1ad973dd-9b2c-4d78-950f-c0675d807ecb"
      },
      "source": [
        "#Ques-16 Set Mutations\n",
        "\n",
        "a = int(input())\n",
        "aset = set(map(int, input().split(' ')))\n",
        "for i in range(int(input())):\n",
        "    command, b = input().split(' ')\n",
        "    if command == 'intersection_update':\n",
        "        aset &= set(map(int, input().split(' ')))\n",
        "    elif command == 'update':\n",
        "        aset |= set(map(int, input().split(' ')))\n",
        "    elif command == 'symmetric_difference_update':\n",
        "        aset ^= set(map(int, input().split(' ')))\n",
        "    else:\n",
        "        aset -= set(map(int, input().split(' ')))\n",
        "print(sum(aset))  "
      ],
      "execution_count": null,
      "outputs": [
        {
          "output_type": "stream",
          "text": [
            "16\n",
            "1 2 3 4 5 6 7 8 9 1 1 2 3 4 5 6\n",
            "2\n",
            "update 2\n",
            "55 66\n",
            "intersection_update 2\n",
            "2 3\n",
            "5\n"
          ],
          "name": "stdout"
        }
      ]
    },
    {
      "cell_type": "code",
      "metadata": {
        "id": "tr4GhKNaiUNe"
      },
      "source": [
        "#Ques-17  Captains Room\n",
        "\n",
        "k = int(input())\n",
        "rooms = (int(x) for x in input().split(' '))\n",
        "seen = {}\n",
        "\n",
        "for i in rooms:\n",
        "    if not i in seen:\n",
        "        seen[i] = 1\n",
        "    else:\n",
        "        seen[i] += 1\n",
        "\n",
        "for key, val in seen.items():\n",
        "    if val != k:\n",
        "        print(key)"
      ],
      "execution_count": null,
      "outputs": []
    },
    {
      "cell_type": "code",
      "metadata": {
        "colab": {
          "base_uri": "https://localhost:8080/"
        },
        "id": "QIJ39heYNH2T",
        "outputId": "217b381b-5dad-4f8f-8068-43aa55bdcc11"
      },
      "source": [
        "#Ques-18  check subset\n",
        "\n",
        "for testcase in range(int(input())): \n",
        "    n = int(input()); setA = set(input().split()); \n",
        "    m = int(input()); setB = set(input().split());\n",
        "    print(setA.issubset(setB))"
      ],
      "execution_count": 5,
      "outputs": [
        {
          "output_type": "stream",
          "text": [
            "3\n",
            "3\n",
            "1 2 4\n",
            "1\n",
            "4\n",
            "False\n",
            "2\n",
            "1 2\n",
            "3\n",
            "1 2 3\n",
            "True\n",
            "3\n",
            "1 5 2\n",
            "1\n",
            "1\n",
            "False\n"
          ],
          "name": "stdout"
        }
      ]
    },
    {
      "cell_type": "code",
      "metadata": {
        "colab": {
          "base_uri": "https://localhost:8080/"
        },
        "id": "n_1P2bsTSaVB",
        "outputId": "e5fe1ffa-2c68-46b8-d4ec-934fc217b10a"
      },
      "source": [
        "#Ques-19 check superset\n",
        "\n",
        "setA=set(map(int,input().split()))\n",
        "flag=False\n",
        "for i in range(int(input())):\n",
        "    setn=set(map(int,input().split()))\n",
        "    if(setA.issuperset(setn)):\n",
        "        flag = True\n",
        "    else: flag = False\n",
        "    \n",
        "print(flag)"
      ],
      "execution_count": 6,
      "outputs": [
        {
          "output_type": "stream",
          "text": [
            "1 2 3 4 5 6\n",
            "2\n",
            "8 9 0\n",
            "1 2 8 9\n",
            "False\n"
          ],
          "name": "stdout"
        }
      ]
    }
  ]
}