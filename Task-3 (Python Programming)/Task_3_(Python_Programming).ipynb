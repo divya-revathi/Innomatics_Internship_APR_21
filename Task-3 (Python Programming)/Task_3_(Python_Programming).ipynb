{
  "nbformat": 4,
  "nbformat_minor": 0,
  "metadata": {
    "colab": {
      "name": "Task-3 (Python Programming).ipynb",
      "provenance": [],
      "collapsed_sections": []
    },
    "kernelspec": {
      "name": "python3",
      "display_name": "Python 3"
    },
    "language_info": {
      "name": "python"
    }
  },
  "cells": [
    {
      "cell_type": "code",
      "metadata": {
        "colab": {
          "base_uri": "https://localhost:8080/"
        },
        "id": "WNFDv_Xc9IHV",
        "outputId": "b08cbcfe-01c2-48bc-f572-42d83f9baeb9"
      },
      "source": [
        "#Ques-1 Polar Cordinates\n",
        "\n",
        "import cmath\n",
        "number=complex(input())\n",
        "print(abs(number))\n",
        "print(cmath.phase(number))"
      ],
      "execution_count": 1,
      "outputs": [
        {
          "output_type": "stream",
          "text": [
            "1+2j\n",
            "2.23606797749979\n",
            "1.1071487177940904\n"
          ],
          "name": "stdout"
        }
      ]
    },
    {
      "cell_type": "code",
      "metadata": {
        "colab": {
          "base_uri": "https://localhost:8080/"
        },
        "id": "69-1s-ddJLEZ",
        "outputId": "2fb8e529-663f-46a3-ea22-d3594edb3deb"
      },
      "source": [
        "#Ques-2 MBC Angle\n",
        "\n",
        "import math\n",
        "\n",
        "ab = int(input())\n",
        "bc = int(input())\n",
        "degree_sign = u\"\\N{DEGREE SIGN}\"\n",
        "hyp = math.hypot(ab,bc)\n",
        "angle=math.degrees(math.acos(bc/hyp))\n",
        "print(str(int(round(angle,0)))+degree_sign)"
      ],
      "execution_count": 2,
      "outputs": [
        {
          "output_type": "stream",
          "text": [
            "10\n",
            "10\n",
            "45°\n"
          ],
          "name": "stdout"
        }
      ]
    },
    {
      "cell_type": "code",
      "metadata": {
        "colab": {
          "base_uri": "https://localhost:8080/"
        },
        "id": "gLzeIm7-JVVg",
        "outputId": "b41e065f-6f5a-4de8-d72e-8d9ed13e4724"
      },
      "source": [
        "#Ques-3 Palindrome triangle\n",
        "\n",
        "for n in range(1,int(input())+1): #More than 2 lines will result in 0 score. Do not leave a blank line also\n",
        "    print([0, 1, 121, 12321, 1234321, 123454321, 12345654321, 1234567654321, 123456787654321, 12345678987654321][n])\n"
      ],
      "execution_count": 4,
      "outputs": [
        {
          "output_type": "stream",
          "text": [
            "3\n",
            "1\n",
            "121\n",
            "12321\n"
          ],
          "name": "stdout"
        }
      ]
    },
    {
      "cell_type": "code",
      "metadata": {
        "colab": {
          "base_uri": "https://localhost:8080/"
        },
        "id": "5A19kOPhMJro",
        "outputId": "9e16120f-dccd-4fcf-b939-00f1ed199b3f"
      },
      "source": [
        "#Ques-4 Divmod function\n",
        "\n",
        "n1=int(input())\n",
        "n2=int(input())\n",
        "print(int(n1/n2))\n",
        "print(n1%n2)\n",
        "print(divmod(n1,n2))1"
      ],
      "execution_count": 5,
      "outputs": [
        {
          "output_type": "stream",
          "text": [
            "177\n",
            "10\n",
            "17\n",
            "7\n",
            "(17, 7)\n"
          ],
          "name": "stdout"
        }
      ]
    },
    {
      "cell_type": "code",
      "metadata": {
        "colab": {
          "base_uri": "https://localhost:8080/"
        },
        "id": "43cbZEVRMRn4",
        "outputId": "acf4753f-8fa3-4f05-a380-5b8f1aea24c7"
      },
      "source": [
        "#Ques-5 Power and Mod-Power\n",
        "\n",
        "a=int(input())\n",
        "b=int(input())\n",
        "m=int(input())\n",
        "print(pow(a,b))\n",
        "print(pow(a,b,m))"
      ],
      "execution_count": 6,
      "outputs": [
        {
          "output_type": "stream",
          "text": [
            "3\n",
            "4\n",
            "5\n",
            "81\n",
            "1\n"
          ],
          "name": "stdout"
        }
      ]
    },
    {
      "cell_type": "code",
      "metadata": {
        "colab": {
          "base_uri": "https://localhost:8080/"
        },
        "id": "sq-4Af5YNiZ1",
        "outputId": "6fde19dc-e27f-42c0-a2f7-d9f65db8032a"
      },
      "source": [
        "#Ques-6 Print the result of a^b + c^d on one line.\n",
        "\n",
        "a=int(input())\n",
        "b=int(input())\n",
        "c=int(input())\n",
        "d=int(input())\n",
        "print(pow(a,b)+pow(c,d))"
      ],
      "execution_count": 7,
      "outputs": [
        {
          "output_type": "stream",
          "text": [
            "9\n",
            "29\n",
            "7\n",
            "27\n",
            "4710194409608608369201743232\n"
          ],
          "name": "stdout"
        }
      ]
    },
    {
      "cell_type": "code",
      "metadata": {
        "colab": {
          "base_uri": "https://localhost:8080/"
        },
        "id": "1-Di9s4wOzWV",
        "outputId": "25de074c-2f58-4a48-e1d7-fcb036142da4"
      },
      "source": [
        "#Ques-7 Triangle quest\n",
        "\n",
        "for n in range(1,int(input())): #More than 2 lines will result in 0 score. Do not leave a blank line also\n",
        "    print([0, 1, 22, 333, 4444, 55555, 666666, 7777777, 88888888, 999999999][n])\n"
      ],
      "execution_count": 8,
      "outputs": [
        {
          "output_type": "stream",
          "text": [
            "5\n",
            "1\n",
            "22\n",
            "333\n",
            "4444\n"
          ],
          "name": "stdout"
        }
      ]
    }
  ]
}