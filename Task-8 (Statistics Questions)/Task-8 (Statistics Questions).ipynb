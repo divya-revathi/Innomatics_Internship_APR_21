{
 "cells": [
  {
   "cell_type": "markdown",
   "metadata": {},
   "source": [
    "#### Objective 1\n",
    "###### In this challenge, we learn about binomial distributions. \n",
    "\n",
    "#### Task\n",
    "###### The ratio of boys to girls for babies born in Russia is 1.09:1 . If there is 1 child born per birth, what proportion of Russian families with exactly 6 children will have at least 3 boys?\n",
    "\n",
    "###### Write a program to compute the answer using the above parameters. Then print your result, rounded to a scale of  decimal places (i.e.,  1.234 format)."
   ]
  },
  {
   "cell_type": "code",
   "execution_count": 11,
   "metadata": {},
   "outputs": [
    {
     "name": "stdout",
     "output_type": "stream",
     "text": [
      "1.09 1\n",
      "0.696\n"
     ]
    }
   ],
   "source": [
    "boys,girls = [float(x) for x in input().strip().split(' ')]\n",
    "\n",
    "probGirls = (girls/(boys + girls))**4 *(boys/(boys + girls)) ** 2 *15 + (girls/(boys + girls))**5 * (boys/(boys+girls)) *6 + (girls/(boys+girls))**6\n",
    "probBoys = 1 - probGirls\n",
    "print(\"%.3f\" %probBoys)"
   ]
  },
  {
   "cell_type": "markdown",
   "metadata": {},
   "source": [
    "#### Objective 2\n",
    "###### In this challenge, we go further with binomial distributions.\n",
    "\n",
    "#### Task\n",
    "###### A manufacturer of metal pistons finds that, on average, 12% of the pistons they manufacture are rejected because they are incorrectly sized. What is the probability that a batch of 10 pistons will contain:\n",
    "\n",
    "###### No more than 2 rejects?\n",
    "###### At least 2 rejects?"
   ]
  },
  {
   "cell_type": "code",
   "execution_count": 3,
   "metadata": {},
   "outputs": [
    {
     "name": "stdout",
     "output_type": "stream",
     "text": [
      "12 10\n",
      "0.891\n",
      "0.342\n"
     ]
    }
   ],
   "source": [
    "from math import factorial\n",
    "\n",
    "p,n = [float(x) for x in input().strip().split(' ')]\n",
    "\n",
    "p = p/100.0\n",
    "q = 1-p\n",
    "\n",
    "B0 = factorial(n)/(factorial(0)*factorial(n-0)) * p**0 * q**(n-0)\n",
    "B1 = factorial(n)/(factorial(1)*factorial(n-1)) * p**1 * q**(n-1)\n",
    "B2 = factorial(n)/(factorial(2)*factorial(n-2)) * p**2 * q**(n-2)\n",
    "\n",
    "print(round(B0+B1+B2,3))\n",
    "print(round(1-(B0+B1),3))"
   ]
  },
  {
   "cell_type": "markdown",
   "metadata": {},
   "source": [
    "#### Objective 3\n",
    "###### In this challenge, we learn about normal distributions.\n",
    "\n",
    "#### Task\n",
    "###### In a certain plant, the time taken to assemble a car is a random variable, X , having a normal distribution with a mean of 20 hours and a standard deviation of 2 hours. What is the probability that a car can be assembled at this plant in:\n",
    "\n",
    "###### Less than 19.5 hours?\n",
    "###### Between 20 and 22 hours?"
   ]
  },
  {
   "cell_type": "code",
   "execution_count": 5,
   "metadata": {},
   "outputs": [
    {
     "name": "stdout",
     "output_type": "stream",
     "text": [
      "20 2\n",
      "19.5\n",
      "20 22\n",
      "0.401\n",
      "0.341\n"
     ]
    }
   ],
   "source": [
    "import math\n",
    "mean,std = [int(x) for x in input().strip().split(' ')]\n",
    "less_hour=float(input())\n",
    "between1,between2 = [int(x) for x in input().strip().split(' ')]\n",
    "\n",
    "result1 = 1/2 * (1 + math.erf((less_hour - mean)/(math.sqrt(std)*2)))\n",
    "result2 = (1/2 * (1 + math.erf((between2 - between1)/(math.sqrt(std)*2)))) - 1/2\n",
    "print(\"%.3f\" % result1)\n",
    "print(\"%.3f\" % result2)"
   ]
  },
  {
   "cell_type": "markdown",
   "metadata": {},
   "source": [
    "#### Objective 4\n",
    "###### In this challenge, we go further with normal distributions. \n",
    "\n",
    "#### Task\n",
    "###### The final grades for a Physics exam taken by a large group of students have a mean of 70 and a standard deviation of 10 . If we can approximate the distribution of these grades by a normal distribution, what percentage of the students:\n",
    "\n",
    "###### Scored higher than 80 (i.e., have a grade>80)?\n",
    "###### Passed the test (i.e., have a grade>=60)?\n",
    "###### Failed the test (i.e., have a grade<60)?\n",
    "###### Find and print the answer to each question on a new line, rounded to a scale of 2 decimal places."
   ]
  },
  {
   "cell_type": "code",
   "execution_count": 7,
   "metadata": {},
   "outputs": [
    {
     "name": "stdout",
     "output_type": "stream",
     "text": [
      "70 2\n",
      "80\n",
      "60\n",
      "15.87\n",
      "84.13\n",
      "15.87\n"
     ]
    }
   ],
   "source": [
    "import math\n",
    "mean,std = [int(x) for x in input().strip().split(' ')]\n",
    "high_mark=int(input())\n",
    "threshold_mark= int(input())\n",
    "\n",
    "grade_more_than_80 = 1 - (.5 * (1 + math.erf((high_mark - mean)/(math.sqrt(std)*10))))\n",
    "pass_grade = 1 - (.5 * (1 + math.erf((threshold_mark - mean)/(math.sqrt(std)*10))))\n",
    "fail_grade = .5 * (1 + math.erf((threshold_mark - mean)/(math.sqrt(std)*10)))\n",
    "\n",
    "print(\"%.2f\" %(grade_more_than_80*100))\n",
    "print(\"%.2f\" %(pass_grade*100))\n",
    "print(\"%.2f\" %(fail_grade*100))"
   ]
  },
  {
   "cell_type": "markdown",
   "metadata": {},
   "source": [
    "#### Objective 5\n",
    "###### In this challenge, we practice solving problems based on the Central Limit Theorem. \n",
    "\n",
    "#### Task\n",
    "###### A large elevator can transport a maximum of 9800 pounds. Suppose a load of cargo containing 49 boxes must be transported via the elevator. The box weight of this type of cargo follows a distribution with a mean of 205 pounds and a standard deviation of 15 pounds. Based on this information, what is the probability that all 49 boxes can be safely loaded into the freight elevator and transported?"
   ]
  },
  {
   "cell_type": "code",
   "execution_count": 9,
   "metadata": {},
   "outputs": [
    {
     "name": "stdout",
     "output_type": "stream",
     "text": [
      "0.0098\n"
     ]
    }
   ],
   "source": [
    "import math\n",
    "\n",
    "max_weight = 9800\n",
    "n = 49\n",
    "mean = 205\n",
    "std = 15\n",
    "result= 0.5 * (1 + math.erf((max_weight - (n*mean))/((math.sqrt(n) * std) * math.sqrt(2))))\n",
    "print(\"%.4f\" % round(result, 4))"
   ]
  },
  {
   "cell_type": "markdown",
   "metadata": {},
   "source": [
    "#### Objective 6\n",
    "###### In this challenge, we practice solving problems based on the Central Limit Theorem. \n",
    "\n",
    "#### Task\n",
    "###### The number of tickets purchased by each student for the University X vs. University Y football game follows a distribution that has a mean of 2.4 and a standard deviation of 2.\n",
    "\n",
    "###### A few hours before the game starts, 100 eager students line up to purchase last-minute tickets. If there are only 250 tickets left, what is the probability that all 100 students will be able to purchase tickets?"
   ]
  },
  {
   "cell_type": "code",
   "execution_count": 10,
   "metadata": {},
   "outputs": [
    {
     "name": "stdout",
     "output_type": "stream",
     "text": [
      "0.6915\n"
     ]
    }
   ],
   "source": [
    "import math\n",
    "\n",
    "student_count = 250\n",
    "n = 100\n",
    "mean = 2.4\n",
    "std = 2.0\n",
    "result=0.5*(1+(math.erf((student_count-(n*mean))/((math.sqrt(n) * std)*math.sqrt(2)))))\n",
    "print(\"%.4f\" % round(result,4))"
   ]
  },
  {
   "cell_type": "markdown",
   "metadata": {},
   "source": [
    "#### Objective 7\n",
    "###### In this challenge, we practice solving problems based on the Central Limit Theorem. \n",
    "\n",
    "#### Task\n",
    "###### You have a sample of 100 values from a population with mean 500 and with standard deviation 80. Compute the interval that covers the middle 95% of the distribution of the sample mean; in other words, compute A and B such that P(A<x<B)=0.95. Use the value of z=1.96. Note that z is the z-score."
   ]
  },
  {
   "cell_type": "code",
   "execution_count": 11,
   "metadata": {},
   "outputs": [
    {
     "name": "stdout",
     "output_type": "stream",
     "text": [
      "484.32\n",
      "515.68\n"
     ]
    }
   ],
   "source": [
    "import math\n",
    "samples = 100\n",
    "mean = 500\n",
    "std = 80\n",
    "std = std / math.sqrt(samples)\n",
    "interval = .95\n",
    "z = 1.96\n",
    "p_of_a = -z * std + mean\n",
    "p_of_b = z * std + mean\n",
    "print(\"%.2f\" % round(p_of_a,2))\n",
    "print(\"%.2f\" % round(p_of_b,2))"
   ]
  },
  {
   "cell_type": "markdown",
   "metadata": {},
   "source": [
    "#### Objective 8\n",
    "###### In this challenge, we practice calculating the Pearson correlation coefficient. \n",
    "\n",
    "#### Task\n",
    "###### Given two n-element data sets, X and Y, calculate the value of the Pearson correlation coefficient."
   ]
  },
  {
   "cell_type": "code",
   "execution_count": 13,
   "metadata": {},
   "outputs": [
    {
     "name": "stdout",
     "output_type": "stream",
     "text": [
      "10\n",
      "1 2 3 4 5.5 6.2 4.5 8 9 10\n",
      "100 2 3 4 1.4 2.6 3.7 12 3 4\n",
      "-0.473\n"
     ]
    }
   ],
   "source": [
    "# Enter your code here. Read input from STDIN. Print output to STDOUT\n",
    "\n",
    "n = int(input().strip())\n",
    "X = [float(x) for x in input().strip().split(' ')]\n",
    "Y = [float(x) for x in input().strip().split(' ')]\n",
    "mean_of_X = sum(X)/n\n",
    "mean_of_Y = sum(Y)/n\n",
    "variance_of_X = 0\n",
    "for x in X:\n",
    "    variance_of_X = variance_of_X + (x - mean_of_X)**2\n",
    "variance_of_X = variance_of_X * 1/n\n",
    "std_of_X = variance_of_X**.5\n",
    "variance_of_Y = 0\n",
    "for y in Y:\n",
    "    variance_of_Y = variance_of_Y + (y - mean_of_Y)**2\n",
    "variance_of_Y = 1/n * variance_of_Y\n",
    "std_of_Y = variance_of_Y**.5\n",
    "summation = 0\n",
    "for i in range(n):\n",
    "    summation = summation + (X[i] - mean_of_X)*(Y[i] - mean_of_Y)\n",
    "rho_X_Y = summation/(n*std_of_X *std_of_Y)\n",
    "print(\"%.3f\" % rho_X_Y)\n"
   ]
  },
  {
   "cell_type": "markdown",
   "metadata": {},
   "source": [
    "#### Objective 9\n",
    "###### In this challenge, we practice using linear regression techniques. \n",
    "\n",
    "#### Task\n",
    "######  A group of five students enrolls in Statistics immediately after taking a Math aptitude test. Each student's Math aptitude test score, x, and Statistics course grade, y, can be expressed as the following list of (x,y) points:\n",
    "1. (95,85)\n",
    "2. (85,95)\n",
    "3. (80,70)\n",
    "4. (70,65)\n",
    "5. (60,70)\n",
    "###### If a student scored an 80 on the Math aptitude test, what grade would we expect them to achieve in Statistics? Determine the equation of the best-fit line using the least squares method, then compute and print the value of y when x=80."
   ]
  },
  {
   "cell_type": "code",
   "execution_count": 14,
   "metadata": {},
   "outputs": [
    {
     "name": "stdout",
     "output_type": "stream",
     "text": [
      "78.288\n"
     ]
    }
   ],
   "source": [
    "n = 5\n",
    "X = [95,85,80,70,60]\n",
    "Y = [85,95,70,65,70] \n",
    "mean_of_X = sum(X)/n\n",
    "mean_of_Y = sum(Y)/n\n",
    "variance_of_X = 0\n",
    "for x in X:\n",
    "    variance_of_X = variance_of_X + (x - mean_of_X)**2\n",
    "variance_of_X = variance_of_X * 1/n\n",
    "std_of_X = variance_of_X**.5\n",
    "variance_of_Y = 0\n",
    "for y in Y:\n",
    "    variance_of_Y = variance_of_Y + (y - mean_of_Y)**2\n",
    "variance_of_Y = 1/n * variance_of_Y\n",
    "std_of_Y = variance_of_Y**.5\n",
    "summation = 0\n",
    "for i in range(n):\n",
    "    summation = summation + (X[i] - mean_of_X)*(Y[i] - mean_of_Y)\n",
    "rho_X_Y = summation/(n*std_of_X *std_of_Y)\n",
    "\n",
    "y = rho_X_Y * std_of_Y / std_of_X\n",
    "x = mean_of_Y - y * mean_of_X\n",
    "print(\"%.3f\" % (x + y*80))"
   ]
  },
  {
   "cell_type": "markdown",
   "metadata": {},
   "source": [
    "#### Objective 10\n",
    "###### In this challenge, we practice using multiple linear regression"
   ]
  },
  {
   "cell_type": "code",
   "execution_count": 1,
   "metadata": {},
   "outputs": [
    {
     "name": "stdout",
     "output_type": "stream",
     "text": [
      "2 7\n",
      "0.18 0.89 109.85\n",
      "1.0 0.26 155.72\n",
      "0.92 0.11 137.66\n",
      "0.07 0.37 76.17\n",
      "0.85 0.16 139.75\n",
      "0.99 0.41 162.6\n",
      "0.87 0.47 151.77\n",
      "4\n",
      "0.49 0.18\n",
      "105.21\n",
      "0.57 0.83\n",
      "142.67\n",
      "0.56 0.64\n",
      "132.94\n",
      "0.76 0.18\n",
      "129.70\n"
     ]
    }
   ],
   "source": [
    "from sklearn import linear_model\n",
    "\n",
    "m,n = [int(x) for x in input().split(' ')]\n",
    "x = []\n",
    "y = []\n",
    "for i in range(n):\n",
    "    arr = [float(x) for x in input().split(' ')]\n",
    "    x.append(arr[:-1])\n",
    "    y.append(arr[-1])\n",
    "\n",
    "lm = linear_model.LinearRegression()\n",
    "lm.fit(x, y)\n",
    "a = lm.intercept_\n",
    "b = lm.coef_\n",
    "q = int(input())\n",
    "for i in range(q):\n",
    "    arr = [float(x) for x in input().split(' ')]\n",
    "    ans = a\n",
    "    for j in range(m):\n",
    "        ans = ans + arr[j]*b[j]\n",
    "    print(\"%.2f\" % ans)"
   ]
  },
  {
   "cell_type": "code",
   "execution_count": null,
   "metadata": {},
   "outputs": [],
   "source": []
  }
 ],
 "metadata": {
  "kernelspec": {
   "display_name": "Python 3",
   "language": "python",
   "name": "python3"
  },
  "language_info": {
   "codemirror_mode": {
    "name": "ipython",
    "version": 3
   },
   "file_extension": ".py",
   "mimetype": "text/x-python",
   "name": "python",
   "nbconvert_exporter": "python",
   "pygments_lexer": "ipython3",
   "version": "3.8.5"
  }
 },
 "nbformat": 4,
 "nbformat_minor": 4
}
